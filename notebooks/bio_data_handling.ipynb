{
 "cells": [
  {
   "cell_type": "markdown",
   "id": "4e3804d8-b86b-4f64-98e3-925757821446",
   "metadata": {},
   "source": [
    "## Data Handling Notebook\n",
    "### Functions:\n",
    "- Download dataset\n",
    "- Load Dataset\n",
    "- Save into the data/\n",
    "- Explore Features and basic information of dataset"
   ]
  },
  {
   "cell_type": "code",
   "execution_count": 1,
   "id": "f2a326c3-0450-4eba-8486-df978d69ff42",
   "metadata": {},
   "outputs": [
    {
     "name": "stderr",
     "output_type": "stream",
     "text": [
      "Downloading...\n",
      "100%|██████████████████████████████████████████████████████████████████████████████████████████████████████████████████████████████████████████████████| 43.7k/43.7k [00:00<00:00, 204kiB/s]\n",
      "Loading...\n",
      "Done!\n"
     ]
    }
   ],
   "source": [
    "# downlaod dataset\n",
    "from tdc.single_pred import ADME\n",
    "data = ADME(name = 'Bioavailability_Ma')"
   ]
  },
  {
   "cell_type": "code",
   "execution_count": 2,
   "id": "ff838447-ecc1-4ccb-82a7-ba16faebb0c7",
   "metadata": {},
   "outputs": [],
   "source": [
    "# Load dataset into pandas Dataframe\n",
    "df = data.get_data()"
   ]
  },
  {
   "cell_type": "code",
   "execution_count": 3,
   "id": "bf0c6f31-9a2a-4e98-ae37-6b711d759ebe",
   "metadata": {},
   "outputs": [],
   "source": [
    "# Save the loaded dataset\n",
    "df.to_csv(\"../data/bioavailability.csv\", index=False)\n",
    "df.to_pickle(\"../data/bioavailabilty.pkl\")"
   ]
  },
  {
   "cell_type": "code",
   "execution_count": 4,
   "id": "7ae4cc68-0a01-488e-a1fd-c2c0c9cdbae4",
   "metadata": {},
   "outputs": [
    {
     "data": {
      "text/html": [
       "<div>\n",
       "<style scoped>\n",
       "    .dataframe tbody tr th:only-of-type {\n",
       "        vertical-align: middle;\n",
       "    }\n",
       "\n",
       "    .dataframe tbody tr th {\n",
       "        vertical-align: top;\n",
       "    }\n",
       "\n",
       "    .dataframe thead th {\n",
       "        text-align: right;\n",
       "    }\n",
       "</style>\n",
       "<table border=\"1\" class=\"dataframe\">\n",
       "  <thead>\n",
       "    <tr style=\"text-align: right;\">\n",
       "      <th></th>\n",
       "      <th>Drug_ID</th>\n",
       "      <th>Drug</th>\n",
       "      <th>Y</th>\n",
       "    </tr>\n",
       "  </thead>\n",
       "  <tbody>\n",
       "    <tr>\n",
       "      <th>0</th>\n",
       "      <td>Dimercaprol</td>\n",
       "      <td>OCC(S)CS</td>\n",
       "      <td>0</td>\n",
       "    </tr>\n",
       "    <tr>\n",
       "      <th>1</th>\n",
       "      <td>Edrophonium</td>\n",
       "      <td>CC[N+](C)(C)c1cccc(O)c1</td>\n",
       "      <td>0</td>\n",
       "    </tr>\n",
       "    <tr>\n",
       "      <th>2</th>\n",
       "      <td>Carbimazole</td>\n",
       "      <td>CCOC(=O)n1ccn(C)c1=S</td>\n",
       "      <td>0</td>\n",
       "    </tr>\n",
       "    <tr>\n",
       "      <th>3</th>\n",
       "      <td>Vidarabine</td>\n",
       "      <td>Nc1ncnc2c1ncn2[C@@H]1O[C@H](CO)[C@@H](O)[C@@H]1O</td>\n",
       "      <td>0</td>\n",
       "    </tr>\n",
       "    <tr>\n",
       "      <th>4</th>\n",
       "      <td>Cefacetrile</td>\n",
       "      <td>CC(=O)OCC1=C(C(=O)O)N2C(=O)[C@@H](NC(=O)CC#N)[...</td>\n",
       "      <td>0</td>\n",
       "    </tr>\n",
       "  </tbody>\n",
       "</table>\n",
       "</div>"
      ],
      "text/plain": [
       "       Drug_ID                                               Drug  Y\n",
       "0  Dimercaprol                                           OCC(S)CS  0\n",
       "1  Edrophonium                            CC[N+](C)(C)c1cccc(O)c1  0\n",
       "2  Carbimazole                               CCOC(=O)n1ccn(C)c1=S  0\n",
       "3   Vidarabine   Nc1ncnc2c1ncn2[C@@H]1O[C@H](CO)[C@@H](O)[C@@H]1O  0\n",
       "4  Cefacetrile  CC(=O)OCC1=C(C(=O)O)N2C(=O)[C@@H](NC(=O)CC#N)[...  0"
      ]
     },
     "execution_count": 4,
     "metadata": {},
     "output_type": "execute_result"
    }
   ],
   "source": [
    "# exploring dataset\n",
    "df.head()"
   ]
  },
  {
   "cell_type": "code",
   "execution_count": 5,
   "id": "c0bdf68e-bcd9-458d-ad33-7aefbcd3d899",
   "metadata": {},
   "outputs": [
    {
     "data": {
      "text/plain": [
       "Index(['Drug_ID', 'Drug', 'Y'], dtype='object')"
      ]
     },
     "execution_count": 5,
     "metadata": {},
     "output_type": "execute_result"
    }
   ],
   "source": [
    "df.columns"
   ]
  },
  {
   "cell_type": "code",
   "execution_count": 6,
   "id": "d1bd0f88-54d8-452c-924d-d3da64c36ca0",
   "metadata": {},
   "outputs": [
    {
     "data": {
      "text/plain": [
       "Drug_ID    object\n",
       "Drug       object\n",
       "Y           int64\n",
       "dtype: object"
      ]
     },
     "execution_count": 6,
     "metadata": {},
     "output_type": "execute_result"
    }
   ],
   "source": [
    "df.dtypes"
   ]
  },
  {
   "cell_type": "code",
   "execution_count": 7,
   "id": "04513fd6-ebde-4098-8cce-55eca79a94b6",
   "metadata": {},
   "outputs": [
    {
     "data": {
      "text/plain": [
       "dict_keys(['train', 'valid', 'test'])"
      ]
     },
     "execution_count": 7,
     "metadata": {},
     "output_type": "execute_result"
    }
   ],
   "source": [
    "split = data.get_split()\n",
    "split.keys()"
   ]
  },
  {
   "cell_type": "code",
   "execution_count": null,
   "id": "bc5d8f22-9a39-42b5-997b-b6564d061b7b",
   "metadata": {},
   "outputs": [],
   "source": []
  }
 ],
 "metadata": {
  "kernelspec": {
   "display_name": "Python 3 (ipykernel)",
   "language": "python",
   "name": "python3"
  },
  "language_info": {
   "codemirror_mode": {
    "name": "ipython",
    "version": 3
   },
   "file_extension": ".py",
   "mimetype": "text/x-python",
   "name": "python",
   "nbconvert_exporter": "python",
   "pygments_lexer": "ipython3",
   "version": "3.9.21"
  }
 },
 "nbformat": 4,
 "nbformat_minor": 5
}
