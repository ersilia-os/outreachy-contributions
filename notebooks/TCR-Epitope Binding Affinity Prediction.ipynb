{
 "cells": [
  {
   "cell_type": "code",
   "execution_count": 9,
   "id": "8ad00807-2dc5-455e-bb11-b8c706d4fc0a",
   "metadata": {},
   "outputs": [],
   "source": [
    "from tdc.multi_pred import TCREpitopeBinding\n",
    "from scripts.data_loader import DataDownloader\n",
    "from scripts.eda import ExploratoryDataAnalysis\n",
    "\n",
    "import seaborn as sns\n",
    "import matplotlib.pyplot as plt"
   ]
  },
  {
   "cell_type": "markdown",
   "id": "74e2e1db-fe26-4f2a-aaf8-ffaed7c84330",
   "metadata": {},
   "source": [
    "### **Getting to Know Our Data**  "
   ]
  },
  {
   "cell_type": "code",
   "execution_count": 2,
   "id": "44504917-255d-4524-a42b-7874a5ac6541",
   "metadata": {},
   "outputs": [
    {
     "name": "stderr",
     "output_type": "stream",
     "text": [
      "2025-03-23 09:52:23,790 - INFO - Removing existing data directory: /home/gentroyal/outreachy-contributions/data\n",
      "2025-03-23 09:52:23,812 - INFO - Downloading Weber dataset...\n",
      "Downloading...\n",
      "100%|██████████████████| 16.0M/16.0M [00:31<00:00, 501kiB/s]\n",
      "Loading...\n",
      "Done!\n",
      "2025-03-23 09:52:59,910 - INFO - Dataset saved to /home/gentroyal/outreachy-contributions/data/weber.csv (Shape: (47182, 5))\n"
     ]
    }
   ],
   "source": [
    "downloader = DataDownloader()\n",
    "data, df = downloader.fetch_weber_dataset()"
   ]
  },
  {
   "cell_type": "code",
   "execution_count": 3,
   "id": "f539de43-d983-489c-ae3b-152c8d8953e5",
   "metadata": {},
   "outputs": [
    {
     "data": {
      "text/html": [
       "<div>\n",
       "<style scoped>\n",
       "    .dataframe tbody tr th:only-of-type {\n",
       "        vertical-align: middle;\n",
       "    }\n",
       "\n",
       "    .dataframe tbody tr th {\n",
       "        vertical-align: top;\n",
       "    }\n",
       "\n",
       "    .dataframe thead th {\n",
       "        text-align: right;\n",
       "    }\n",
       "</style>\n",
       "<table border=\"1\" class=\"dataframe\">\n",
       "  <thead>\n",
       "    <tr style=\"text-align: right;\">\n",
       "      <th></th>\n",
       "      <th>epitope_aa</th>\n",
       "      <th>epitope_smi</th>\n",
       "      <th>tcr</th>\n",
       "      <th>tcr_full</th>\n",
       "      <th>label</th>\n",
       "    </tr>\n",
       "  </thead>\n",
       "  <tbody>\n",
       "    <tr>\n",
       "      <th>0</th>\n",
       "      <td>FLKEKGGL</td>\n",
       "      <td>CC(C)C[C@H](NC(=O)CNC(=O)CNC(=O)[C@H](CCCCN)NC...</td>\n",
       "      <td>CSVWGTGKTYEQYF</td>\n",
       "      <td>SAVISQKPSRDICQRGTSLTIQCQVDSQVTMMFWYRQQPGQSLTLI...</td>\n",
       "      <td>1</td>\n",
       "    </tr>\n",
       "    <tr>\n",
       "      <th>1</th>\n",
       "      <td>FLKEKGGL</td>\n",
       "      <td>CC(C)C[C@H](NC(=O)CNC(=O)CNC(=O)[C@H](CCCCN)NC...</td>\n",
       "      <td>CSVWGEGRSYEQYF</td>\n",
       "      <td>SAVISQKPSRDICQRGTSLTIQCQVDSQVTMMFWYRQQPGQSLTLI...</td>\n",
       "      <td>1</td>\n",
       "    </tr>\n",
       "    <tr>\n",
       "      <th>2</th>\n",
       "      <td>FLKEKGGL</td>\n",
       "      <td>CC(C)C[C@H](NC(=O)CNC(=O)CNC(=O)[C@H](CCCCN)NC...</td>\n",
       "      <td>CSATILAGVPYGEQYF</td>\n",
       "      <td>GAVVSQHPSWVICKSGTSVKIECRSLDFQATTMFWYRQFPKQSLML...</td>\n",
       "      <td>1</td>\n",
       "    </tr>\n",
       "    <tr>\n",
       "      <th>3</th>\n",
       "      <td>FLKEKGGL</td>\n",
       "      <td>CC(C)C[C@H](NC(=O)CNC(=O)CNC(=O)[C@H](CCCCN)NC...</td>\n",
       "      <td>CSASEGTSSYEQYF</td>\n",
       "      <td>GAVVSQHPSWVICKSGTSVKIECRSLDFQATTMFWYRQFPKQSLML...</td>\n",
       "      <td>1</td>\n",
       "    </tr>\n",
       "    <tr>\n",
       "      <th>4</th>\n",
       "      <td>FLKEKGGL</td>\n",
       "      <td>CC(C)C[C@H](NC(=O)CNC(=O)CNC(=O)[C@H](CCCCN)NC...</td>\n",
       "      <td>CASSFDREVTGELFF</td>\n",
       "      <td>GAGVSQTPSNKVTEKGKYVELRCDPISGHTALYWYRQSLGQGPEFL...</td>\n",
       "      <td>1</td>\n",
       "    </tr>\n",
       "  </tbody>\n",
       "</table>\n",
       "</div>"
      ],
      "text/plain": [
       "  epitope_aa                                        epitope_smi  \\\n",
       "0   FLKEKGGL  CC(C)C[C@H](NC(=O)CNC(=O)CNC(=O)[C@H](CCCCN)NC...   \n",
       "1   FLKEKGGL  CC(C)C[C@H](NC(=O)CNC(=O)CNC(=O)[C@H](CCCCN)NC...   \n",
       "2   FLKEKGGL  CC(C)C[C@H](NC(=O)CNC(=O)CNC(=O)[C@H](CCCCN)NC...   \n",
       "3   FLKEKGGL  CC(C)C[C@H](NC(=O)CNC(=O)CNC(=O)[C@H](CCCCN)NC...   \n",
       "4   FLKEKGGL  CC(C)C[C@H](NC(=O)CNC(=O)CNC(=O)[C@H](CCCCN)NC...   \n",
       "\n",
       "                tcr                                           tcr_full  label  \n",
       "0    CSVWGTGKTYEQYF  SAVISQKPSRDICQRGTSLTIQCQVDSQVTMMFWYRQQPGQSLTLI...      1  \n",
       "1    CSVWGEGRSYEQYF  SAVISQKPSRDICQRGTSLTIQCQVDSQVTMMFWYRQQPGQSLTLI...      1  \n",
       "2  CSATILAGVPYGEQYF  GAVVSQHPSWVICKSGTSVKIECRSLDFQATTMFWYRQFPKQSLML...      1  \n",
       "3    CSASEGTSSYEQYF  GAVVSQHPSWVICKSGTSVKIECRSLDFQATTMFWYRQFPKQSLML...      1  \n",
       "4   CASSFDREVTGELFF  GAGVSQTPSNKVTEKGKYVELRCDPISGHTALYWYRQSLGQGPEFL...      1  "
      ]
     },
     "execution_count": 3,
     "metadata": {},
     "output_type": "execute_result"
    }
   ],
   "source": [
    "df.head()"
   ]
  },
  {
   "cell_type": "code",
   "execution_count": 4,
   "id": "d42f111c-7f83-4b80-aa3e-59192f48ef5f",
   "metadata": {},
   "outputs": [
    {
     "name": "stdout",
     "output_type": "stream",
     "text": [
      "<class 'pandas.core.frame.DataFrame'>\n",
      "Index: 47182 entries, 0 to 47189\n",
      "Data columns (total 5 columns):\n",
      " #   Column       Non-Null Count  Dtype \n",
      "---  ------       --------------  ----- \n",
      " 0   epitope_aa   47182 non-null  object\n",
      " 1   epitope_smi  47182 non-null  object\n",
      " 2   tcr          47182 non-null  object\n",
      " 3   tcr_full     47182 non-null  object\n",
      " 4   label        47182 non-null  int64 \n",
      "dtypes: int64(1), object(4)\n",
      "memory usage: 2.2+ MB\n"
     ]
    }
   ],
   "source": [
    "df.info()"
   ]
  },
  {
   "cell_type": "markdown",
   "id": "de0c5a1c-42a0-4322-9425-c3e56fdef086",
   "metadata": {},
   "source": [
    "#### Some Useful Methods  \n",
    "\n",
    "Some methods gotten from running `help(data)`, the`data` documentation that may be useful later:  \n",
    "- **`get_label_meaning()`** – get the biomedical meaning of label.\n",
    "- **`print_stats()`** to print the statistics of the dataset\n",
    "- **`label_distribution()`** - visualize distribution of labels\n",
    "\n",
    "This will be updated as needed"
   ]
  },
  {
   "cell_type": "code",
   "execution_count": null,
   "id": "7e0e45b8-8c52-4c08-aece-55cbb63695ca",
   "metadata": {},
   "outputs": [],
   "source": [
    "data.print_stats() #Exploring print_stats()"
   ]
  },
  {
   "cell_type": "code",
   "execution_count": null,
   "id": "f13e5fed-52f9-4da2-87a7-1619eef014b6",
   "metadata": {},
   "outputs": [],
   "source": [
    "df.label.value_counts()"
   ]
  },
  {
   "cell_type": "markdown",
   "id": "2fc1bdc9-156a-49ec-a5c0-9ef9dd9458d1",
   "metadata": {},
   "source": [
    "#### **Brief EDA** "
   ]
  },
  {
   "cell_type": "code",
   "execution_count": null,
   "id": "610b5ac2-0629-4e6e-adfc-55abf24bedae",
   "metadata": {},
   "outputs": [],
   "source": [
    "plt.figure(figsize=(10, 5))\n",
    "sns.barplot(x=df.label.value_counts().index, y=df.label.value_counts().values)\n",
    "\n",
    "plt.xlabel(\"Labels\")\n",
    "plt.ylabel(\"Count\")\n",
    "plt.title(\"Label Distribution\")\n",
    "plt.show();"
   ]
  },
  {
   "cell_type": "markdown",
   "id": "a92c38e3-87a6-4998-8063-8770428970be",
   "metadata": {},
   "source": [
    "**Comment:** There are 23595 of label 1 and 23587 of label 0. Since both classes have almost the same number of samples, it means that there is no imbalance. \n",
    "This implies that we can train our machine learning model without adjusting for class imbalance."
   ]
  },
  {
   "cell_type": "code",
   "execution_count": null,
   "id": "582d1755-4c7c-4314-b896-e78938e69e4b",
   "metadata": {},
   "outputs": [],
   "source": [
    "# Exploring `epitope_aa` column\n",
    "unique_chars = set(''.join(df['epitope_aa'].astype(str).unique()))\n",
    "amino_acids = set(\"ARNDCEQGHILKMFPSTWYV\") # Known amino acids\n",
    "\n",
    "is_amino_acid = unique_chars.issubset(amino_acids)\n",
    "\n",
    "print(\"Unique characters in 'epitope_aa':\", unique_chars)\n",
    "\n",
    "# If all unique characters in `epitope_aa` are in the amino acids characters, then `epitope_aa` indeed represents amino acids\n",
    "print(\"Contains only amino acids:\", is_amino_acid) "
   ]
  },
  {
   "cell_type": "code",
   "execution_count": null,
   "id": "45fae92b-2504-48a4-a65c-43ae68796d35",
   "metadata": {},
   "outputs": [],
   "source": [
    "epitope_length = df['epitope_aa'].str.len()\n",
    "sns.histplot(epitope_length, bins=20, kde=True)\n",
    "plt.title(\"Epitope Sequence Length Distribution\")\n",
    "plt.show()"
   ]
  },
  {
   "cell_type": "markdown",
   "id": "5607fe89-4666-4e41-a0fb-ca7b081d87bf",
   "metadata": {},
   "source": [
    "**Comment:** From this histogram, we see that most epitope sequences are around length of 9"
   ]
  },
  {
   "cell_type": "code",
   "execution_count": null,
   "id": "15ba1ee9-9b05-4baf-ba3b-fc0e03ba439c",
   "metadata": {},
   "outputs": [],
   "source": [
    "tcr_length = df['tcr'].str.len()\n",
    "sns.histplot(tcr_length, bins=20, kde=True)\n",
    "plt.title(\"TCR Sequence Length Distribution\")\n",
    "plt.show()"
   ]
  },
  {
   "cell_type": "markdown",
   "id": "f33456f1-f63e-4cb5-8e98-e555090df80c",
   "metadata": {},
   "source": [
    "**Comment:** Here, we see that most TCR sequences have there lengths to be between 12 and 18, and we see some peaks around 12 and 14. \n",
    "We also see that there are rare occurrences of very short or very long sequences"
   ]
  },
  {
   "cell_type": "code",
   "execution_count": null,
   "id": "4847023d-5e0e-49fb-bf21-7c9a6f5d9fa2",
   "metadata": {},
   "outputs": [],
   "source": [
    "pivot_table = df.pivot_table(index='epitope_aa', columns='label', aggfunc='size', fill_value=0).head(20)\n",
    "sns.heatmap(pivot_table, cmap=\"Blues\", annot=True, fmt=\"d\")\n",
    "plt.title(\"Epitope vs. Label Heatmap\")\n",
    "plt.show()"
   ]
  },
  {
   "cell_type": "markdown",
   "id": "36c782a7-d6e5-450e-9483-f36455221dbb",
   "metadata": {},
   "source": [
    "**Comment:** This dataset has some null entries"
   ]
  },
  {
   "cell_type": "markdown",
   "id": "b318ea81-fcbf-4b3f-9c21-52acd8fb53e6",
   "metadata": {},
   "source": [
    "**Comment:** For the first 20 epitones, we see that the heatmap shows how different sequences are linked to labels 0 and 1.\n",
    "Some sequences appear more often with label 1, like \"AVFDRKSD\" with 400 in label 1 and 127 in label 0\n",
    "Others like \"EIYKRWII\" (138 vs. 148) are more balanced between both labels."
   ]
  },
  {
   "cell_type": "markdown",
   "id": "6423fcc7-d84a-464e-9011-cd203c9a45e1",
   "metadata": {},
   "source": [
    "### **Featurizer**  "
   ]
  },
  {
   "cell_type": "code",
   "execution_count": 6,
   "id": "937075ed-4c46-4f69-adc5-c852e5ff9625",
   "metadata": {},
   "outputs": [],
   "source": [
    "preprocessor = DataPreprocessor()"
   ]
  },
  {
   "cell_type": "code",
   "execution_count": 7,
   "id": "3c649fa0-f961-4d4d-87c4-492d5d1ec07e",
   "metadata": {},
   "outputs": [
    {
     "name": "stderr",
     "output_type": "stream",
     "text": [
      "2025-03-23 09:57:21,061 - INFO - Processed data saved to ../data/processed_data.csv (Shape: (47190, 5))\n"
     ]
    }
   ],
   "source": [
    "df = preprocessor.preprocess()"
   ]
  },
  {
   "cell_type": "code",
   "execution_count": 8,
   "id": "f0339e5b-48b5-4814-a03c-049d5f60e05e",
   "metadata": {},
   "outputs": [
    {
     "data": {
      "text/html": [
       "<div>\n",
       "<style scoped>\n",
       "    .dataframe tbody tr th:only-of-type {\n",
       "        vertical-align: middle;\n",
       "    }\n",
       "\n",
       "    .dataframe tbody tr th {\n",
       "        vertical-align: top;\n",
       "    }\n",
       "\n",
       "    .dataframe thead th {\n",
       "        text-align: right;\n",
       "    }\n",
       "</style>\n",
       "<table border=\"1\" class=\"dataframe\">\n",
       "  <thead>\n",
       "    <tr style=\"text-align: right;\">\n",
       "      <th></th>\n",
       "      <th>epitope_aa</th>\n",
       "      <th>epitope_smi</th>\n",
       "      <th>tcr</th>\n",
       "      <th>tcr_full</th>\n",
       "      <th>label</th>\n",
       "    </tr>\n",
       "  </thead>\n",
       "  <tbody>\n",
       "    <tr>\n",
       "      <th>0</th>\n",
       "      <td>FLKEKGGL</td>\n",
       "      <td>CC(C)C[C@H](NC(=O)CNC(=O)CNC(=O)[C@H](CCCCN)NC...</td>\n",
       "      <td>CSVWGTGKTYEQYF</td>\n",
       "      <td>SAVISQKPSRDICQRGTSLTIQCQVDSQVTMMFWYRQQPGQSLTLI...</td>\n",
       "      <td>1</td>\n",
       "    </tr>\n",
       "    <tr>\n",
       "      <th>1</th>\n",
       "      <td>FLKEKGGL</td>\n",
       "      <td>CC(C)C[C@H](NC(=O)CNC(=O)CNC(=O)[C@H](CCCCN)NC...</td>\n",
       "      <td>CSVWGEGRSYEQYF</td>\n",
       "      <td>SAVISQKPSRDICQRGTSLTIQCQVDSQVTMMFWYRQQPGQSLTLI...</td>\n",
       "      <td>1</td>\n",
       "    </tr>\n",
       "    <tr>\n",
       "      <th>2</th>\n",
       "      <td>FLKEKGGL</td>\n",
       "      <td>CC(C)C[C@H](NC(=O)CNC(=O)CNC(=O)[C@H](CCCCN)NC...</td>\n",
       "      <td>CSATILAGVPYGEQYF</td>\n",
       "      <td>GAVVSQHPSWVICKSGTSVKIECRSLDFQATTMFWYRQFPKQSLML...</td>\n",
       "      <td>1</td>\n",
       "    </tr>\n",
       "    <tr>\n",
       "      <th>3</th>\n",
       "      <td>FLKEKGGL</td>\n",
       "      <td>CC(C)C[C@H](NC(=O)CNC(=O)CNC(=O)[C@H](CCCCN)NC...</td>\n",
       "      <td>CSASEGTSSYEQYF</td>\n",
       "      <td>GAVVSQHPSWVICKSGTSVKIECRSLDFQATTMFWYRQFPKQSLML...</td>\n",
       "      <td>1</td>\n",
       "    </tr>\n",
       "    <tr>\n",
       "      <th>4</th>\n",
       "      <td>FLKEKGGL</td>\n",
       "      <td>CC(C)C[C@H](NC(=O)CNC(=O)CNC(=O)[C@H](CCCCN)NC...</td>\n",
       "      <td>CASSFDREVTGELFF</td>\n",
       "      <td>GAGVSQTPSNKVTEKGKYVELRCDPISGHTALYWYRQSLGQGPEFL...</td>\n",
       "      <td>1</td>\n",
       "    </tr>\n",
       "  </tbody>\n",
       "</table>\n",
       "</div>"
      ],
      "text/plain": [
       "  epitope_aa                                        epitope_smi  \\\n",
       "0   FLKEKGGL  CC(C)C[C@H](NC(=O)CNC(=O)CNC(=O)[C@H](CCCCN)NC...   \n",
       "1   FLKEKGGL  CC(C)C[C@H](NC(=O)CNC(=O)CNC(=O)[C@H](CCCCN)NC...   \n",
       "2   FLKEKGGL  CC(C)C[C@H](NC(=O)CNC(=O)CNC(=O)[C@H](CCCCN)NC...   \n",
       "3   FLKEKGGL  CC(C)C[C@H](NC(=O)CNC(=O)CNC(=O)[C@H](CCCCN)NC...   \n",
       "4   FLKEKGGL  CC(C)C[C@H](NC(=O)CNC(=O)CNC(=O)[C@H](CCCCN)NC...   \n",
       "\n",
       "                tcr                                           tcr_full  label  \n",
       "0    CSVWGTGKTYEQYF  SAVISQKPSRDICQRGTSLTIQCQVDSQVTMMFWYRQQPGQSLTLI...      1  \n",
       "1    CSVWGEGRSYEQYF  SAVISQKPSRDICQRGTSLTIQCQVDSQVTMMFWYRQQPGQSLTLI...      1  \n",
       "2  CSATILAGVPYGEQYF  GAVVSQHPSWVICKSGTSVKIECRSLDFQATTMFWYRQFPKQSLML...      1  \n",
       "3    CSASEGTSSYEQYF  GAVVSQHPSWVICKSGTSVKIECRSLDFQATTMFWYRQFPKQSLML...      1  \n",
       "4   CASSFDREVTGELFF  GAGVSQTPSNKVTEKGKYVELRCDPISGHTALYWYRQSLGQGPEFL...      1  "
      ]
     },
     "execution_count": 8,
     "metadata": {},
     "output_type": "execute_result"
    }
   ],
   "source": [
    "df.head()"
   ]
  },
  {
   "cell_type": "code",
   "execution_count": 10,
   "id": "cfefd86e-b9bd-4f2a-8ee8-275858c3e5d7",
   "metadata": {},
   "outputs": [],
   "source": [
    "eda = ExploratoryDataAnalysis()"
   ]
  },
  {
   "cell_type": "code",
   "execution_count": 11,
   "id": "01e60c70-ceb6-469e-9ef4-9fa96139cfd3",
   "metadata": {},
   "outputs": [
    {
     "name": "stderr",
     "output_type": "stream",
     "text": [
      "2025-03-23 10:00:10,598 - INFO - EDA visualizations saved in figures/ folder.\n"
     ]
    }
   ],
   "source": [
    "eda.generate_visuals()"
   ]
  },
  {
   "cell_type": "code",
   "execution_count": null,
   "id": "9d1b6ab3-1653-4656-85c4-f77110298b9b",
   "metadata": {},
   "outputs": [],
   "source": []
  }
 ],
 "metadata": {
  "kernelspec": {
   "display_name": "Python 3 (ipykernel)",
   "language": "python",
   "name": "python3"
  },
  "language_info": {
   "codemirror_mode": {
    "name": "ipython",
    "version": 3
   },
   "file_extension": ".py",
   "mimetype": "text/x-python",
   "name": "python",
   "nbconvert_exporter": "python",
   "pygments_lexer": "ipython3",
   "version": "3.12.2"
  }
 },
 "nbformat": 4,
 "nbformat_minor": 5
}
