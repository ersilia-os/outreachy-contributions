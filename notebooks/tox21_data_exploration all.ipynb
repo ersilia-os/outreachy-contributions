{
 "cells": [
  {
   "cell_type": "code",
   "execution_count": 18,
   "id": "4e87f20a",
   "metadata": {},
   "outputs": [],
   "source": [
    "from tdc.single_pred import Tox\n",
    "import pandas as pd\n",
    "import seaborn as sns\n",
    "import matplotlib.pyplot as plt\n",
    "from tdc.utils import retrieve_label_name_list"
   ]
  },
  {
   "cell_type": "code",
   "execution_count": 19,
   "id": "091b10a8",
   "metadata": {},
   "outputs": [
    {
     "name": "stderr",
     "output_type": "stream",
     "text": [
      "Found local copy...\n",
      "Loading...\n",
      "Done!\n",
      "Found local copy...\n",
      "Loading...\n",
      "Done!\n",
      "Found local copy...\n",
      "Loading...\n",
      "Done!\n",
      "Found local copy...\n",
      "Loading...\n",
      "Done!\n",
      "Found local copy...\n",
      "Loading...\n",
      "Done!\n",
      "Found local copy...\n",
      "Loading...\n",
      "Done!\n"
     ]
    },
    {
     "name": "stdout",
     "output_type": "stream",
     "text": [
      "Available toxicity endpoints:\n",
      "['NR-AR', 'NR-AR-LBD', 'NR-AhR', 'NR-Aromatase', 'NR-ER', 'NR-ER-LBD', 'NR-PPAR-gamma', 'SR-ARE', 'SR-ATAD5', 'SR-HSE', 'SR-MMP', 'SR-p53']\n"
     ]
    },
    {
     "name": "stderr",
     "output_type": "stream",
     "text": [
      "Found local copy...\n",
      "Loading...\n",
      "Done!\n",
      "Found local copy...\n",
      "Loading...\n",
      "Done!\n",
      "Found local copy...\n",
      "Loading...\n",
      "Done!\n",
      "Found local copy...\n",
      "Loading...\n",
      "Done!\n",
      "Found local copy...\n",
      "Loading...\n",
      "Done!\n",
      "Found local copy...\n",
      "Loading...\n",
      "Done!\n"
     ]
    }
   ],
   "source": [
    "# First, check available toxicity endpoints\n",
    "label_names = retrieve_label_name_list('Tox21')\n",
    "print(\"Available toxicity endpoints:\")\n",
    "print(label_names)\n",
    "# Get all endpoints\n",
    "all_data = []\n",
    "for label in retrieve_label_name_list('Tox21'):\n",
    "    data = Tox(name='Tox21', label_name=label)\n",
    "    df = data.get_data()\n",
    "    df['assay'] = label  # Add assay name as column\n",
    "    all_data.append(df)\n",
    "\n",
    "# Combine all assays\n",
    "combined_df = pd.concat(all_data)"
   ]
  },
  {
   "cell_type": "code",
   "execution_count": 20,
   "id": "e25e5a64",
   "metadata": {},
   "outputs": [],
   "source": [
    "import pandas as pd\n",
    "import numpy as np\n",
    "import matplotlib.pyplot as plt\n",
    "import seaborn as sns\n",
    "\n",
    "# Display settings\n",
    "pd.set_option(\"display.max_columns\", None)\n",
    "sns.set_style(\"whitegrid\")\n",
    "\n"
   ]
  },
  {
   "cell_type": "code",
   "execution_count": 21,
   "id": "022acc9d",
   "metadata": {},
   "outputs": [
    {
     "name": "stdout",
     "output_type": "stream",
     "text": [
      "Dataset Shape: (77946, 4)\n"
     ]
    }
   ],
   "source": [
    "# Check dataset shape\n",
    "print(f\"Dataset Shape: {combined_df.shape}\")"
   ]
  },
  {
   "cell_type": "code",
   "execution_count": null,
   "id": "ca9b53d4",
   "metadata": {},
   "outputs": [
    {
     "name": "stdout",
     "output_type": "stream",
     "text": [
      "Drug_ID     object\n",
      "Drug        object\n",
      "Y          float64\n",
      "assay       object\n",
      "dtype: object\n"
     ]
    }
   ],
   "source": [
    "print(combined_df.dtypes) "
   ]
  },
  {
   "cell_type": "code",
   "execution_count": 22,
   "id": "c57365ed",
   "metadata": {},
   "outputs": [
    {
     "name": "stdout",
     "output_type": "stream",
     "text": [
      "\n",
      "Dataset Info:\n",
      "<class 'pandas.core.frame.DataFrame'>\n",
      "Index: 77946 entries, 0 to 6773\n",
      "Data columns (total 4 columns):\n",
      " #   Column   Non-Null Count  Dtype  \n",
      "---  ------   --------------  -----  \n",
      " 0   Drug_ID  77946 non-null  object \n",
      " 1   Drug     77946 non-null  object \n",
      " 2   Y        77946 non-null  float64\n",
      " 3   assay    77946 non-null  object \n",
      "dtypes: float64(1), object(3)\n",
      "memory usage: 3.0+ MB\n",
      "None\n"
     ]
    }
   ],
   "source": [
    "# Display basic info\n",
    "print(\"\\nDataset Info:\")\n",
    "print(combined_df.info())\n",
    "\n"
   ]
  },
  {
   "cell_type": "code",
   "execution_count": null,
   "id": "b30a4287",
   "metadata": {},
   "outputs": [
    {
     "name": "stdout",
     "output_type": "stream",
     "text": [
      "\n",
      "First Few Rows:\n",
      "    Drug_ID                                  Drug    Y  assay\n",
      "0   TOX3021          CCOc1ccc2nc(S(N)(=O)=O)sc2c1  0.0  NR-AR\n",
      "1   TOX3020             CCN1C(=O)NC(c2ccccc2)C1=O  0.0  NR-AR\n",
      "2   TOX3027       CCCN(CC)C(CC)C(=O)Nc1c(C)cccc1C  0.0  NR-AR\n",
      "3  TOX20800             CC(O)(P(=O)(O)O)P(=O)(O)O  0.0  NR-AR\n",
      "4   TOX5110  CC(C)(C)OOC(C)(C)CCC(C)(C)OOC(C)(C)C  0.0  NR-AR\n"
     ]
    }
   ],
   "source": [
    "# Display first few rows\n",
    "print(\"\\nFirst Few Rows:\")\n",
    "print(combined_df.head())"
   ]
  },
  {
   "cell_type": "code",
   "execution_count": null,
   "id": "f5595e7f",
   "metadata": {},
   "outputs": [
    {
     "name": "stdout",
     "output_type": "stream",
     "text": [
      "\n",
      "Duplicate Rows: 0\n"
     ]
    }
   ],
   "source": [
    "# Check for duplicate rows\n",
    "print(f\"\\nDuplicate Rows: {combined_df.duplicated().sum()}\")"
   ]
  },
  {
   "cell_type": "code",
   "execution_count": 36,
   "id": "0291d54f",
   "metadata": {},
   "outputs": [
    {
     "name": "stdout",
     "output_type": "stream",
     "text": [
      "\n",
      "Summary Statistics:\n",
      "                 Y\n",
      "count  6774.000000\n",
      "mean      0.062445\n",
      "std       0.241979\n",
      "min       0.000000\n",
      "25%       0.000000\n",
      "50%       0.000000\n",
      "75%       0.000000\n",
      "max       1.000000\n"
     ]
    }
   ],
   "source": [
    "# Summary statistics\n",
    "print(\"\\nSummary Statistics:\")\n",
    "print(df.describe())"
   ]
  },
  {
   "cell_type": "code",
   "execution_count": 38,
   "id": "0441aa2c",
   "metadata": {},
   "outputs": [
    {
     "name": "stdout",
     "output_type": "stream",
     "text": [
      "\n",
      "Missing Values:\n",
      "num_C    82\n",
      "num_O    82\n",
      "num_N    82\n",
      "dtype: int64\n"
     ]
    }
   ],
   "source": [
    "# Count missing values\n",
    "missing_values = combined_df.isnull().sum()\n",
    "print(\"\\nMissing Values:\")\n",
    "print(missing_values[missing_values > 0])"
   ]
  },
  {
   "cell_type": "code",
   "execution_count": null,
   "id": "104ad9f9",
   "metadata": {},
   "outputs": [
    {
     "data": {
      "image/png": "[encoded data removed]",
      "text/plain": [
       "<Figure size 1000x500 with 1 Axes>"
      ]
     },
     "metadata": {},
     "output_type": "display_data"
    }
   ],
   "source": [
    "# Visualizing missing values\n",
    "plt.figure(figsize=(10, 5))\n",
    "sns.heatmap(combined_df.isnull(), cmap='viridis', cbar=False, yticklabels=False)\n",
    "plt.title(\"Missing Values Heatmap\")\n",
    "plt.show()"
   ]
  },
  {
   "cell_type": "code",
   "execution_count": null,
   "id": "32f0ce6c",
   "metadata": {},
   "outputs": [
    {
     "data": {
      "image/png": "[encoded data removed]",
      "text/plain": [
       "<Figure size 1200x500 with 1 Axes>"
      ]
     },
     "metadata": {},
     "output_type": "display_data"
    }
   ],
   "source": [
    "# Class distribution of toxicity labels\n",
    "plt.figure(figsize=(12, 5))\n",
    "sns.countplot(y=\"assay\", data=combined_df, order=combined_df[\"assay\"].value_counts().index, palette=\"coolwarm\")\n",
    "plt.title(\"Toxicity Endpoints Distribution\")\n",
    "plt.xlabel(\"Count\")\n",
    "plt.ylabel(\"Assay Name\")\n",
    "plt.show()"
   ]
  },
  {
   "cell_type": "code",
   "execution_count": null,
   "id": "9d41a726",
   "metadata": {},
   "outputs": [
    {
     "data": {
      "image/png": "[encoded data removed]",
      "text/plain": [
       "<Figure size 1200x800 with 1 Axes>"
      ]
     },
     "metadata": {},
     "output_type": "display_data"
    }
   ],
   "source": [
    "# Feature distribution (histograms)\n",
    "combined_df.hist(figsize=(12, 8), bins=30, edgecolor='black')\n",
    "plt.suptitle(\"Feature Distributions\")\n",
    "plt.show()"
   ]
  },
  {
   "cell_type": "code",
   "execution_count": 31,
   "id": "bf2f9885",
   "metadata": {},
   "outputs": [
    {
     "data": {
      "image/png": "[encoded data removed]",
      "text/plain": [
       "<Figure size 1200x600 with 1 Axes>"
      ]
     },
     "metadata": {},
     "output_type": "display_data"
    },
    {
     "name": "stdout",
     "output_type": "stream",
     "text": [
      "EDA Completed Successfully!\n"
     ]
    }
   ],
   "source": [
    "# Boxplots for outlier detection\n",
    "plt.figure(figsize=(12, 6))\n",
    "sns.boxplot(data=combined_df.select_dtypes(include=['float64', 'int64']), palette=\"Set2\")\n",
    "plt.xticks(rotation=45)\n",
    "plt.title(\"Boxplot for Outlier Detection\")\n",
    "plt.show()\n",
    "\n",
    "# Pairplot to visualize feature relationships\n",
    "# Uncomment for small datasets (can be slow for large data)\n",
    "# sns.pairplot(combined_df, hue=\"assay\", diag_kind=\"kde\", palette=\"husl\")\n",
    "# plt.show()\n",
    "\n",
    "print(\"EDA Completed Successfully!\")"
   ]
  },
  {
   "cell_type": "code",
   "execution_count": null,
   "id": "2762ef5d",
   "metadata": {},
   "outputs": [
    {
     "name": "stdout",
     "output_type": "stream",
     "text": [
      "Dataset downloaded and saved as 'tox21_dataset.csv'\n"
     ]
    }
   ],
   "source": [
    "# combined_df.to_parquet('../data/All/tox21_combined_data.parquet', index=False)\n",
    "# print(\"Dataset downloaded and saved as 'tox21_dataset.parquet'\")"
   ]
  },
  {
   "cell_type": "code",
   "execution_count": 34,
   "id": "44453dba",
   "metadata": {},
   "outputs": [
    {
     "name": "stderr",
     "output_type": "stream",
     "text": [
      "[16:05:00] WARNING: not removing hydrogen atom without neighbors\n",
      "[16:05:01] Explicit valence for atom # 3 Al, 6, is greater than permitted\n",
      "[16:05:01] Explicit valence for atom # 4 Al, 6, is greater than permitted\n",
      "[16:05:02] Explicit valence for atom # 4 Al, 6, is greater than permitted\n",
      "[16:05:02] Explicit valence for atom # 9 Al, 6, is greater than permitted\n",
      "[16:05:02] Explicit valence for atom # 5 Al, 6, is greater than permitted\n",
      "[16:05:03] Explicit valence for atom # 16 Al, 6, is greater than permitted\n",
      "[16:05:03] Explicit valence for atom # 20 Al, 6, is greater than permitted\n",
      "[16:05:04] WARNING: not removing hydrogen atom without neighbors\n",
      "[16:05:05] Explicit valence for atom # 3 Al, 6, is greater than permitted\n",
      "[16:05:05] Explicit valence for atom # 4 Al, 6, is greater than permitted\n",
      "[16:05:05] Explicit valence for atom # 4 Al, 6, is greater than permitted\n",
      "[16:05:06] Explicit valence for atom # 9 Al, 6, is greater than permitted\n",
      "[16:05:06] Explicit valence for atom # 5 Al, 6, is greater than permitted\n",
      "[16:05:06] Explicit valence for atom # 16 Al, 6, is greater than permitted\n",
      "[16:05:07] Explicit valence for atom # 20 Al, 6, is greater than permitted\n",
      "[16:05:07] WARNING: not removing hydrogen atom without neighbors\n",
      "[16:05:08] Explicit valence for atom # 3 Al, 6, is greater than permitted\n",
      "[16:05:08] Explicit valence for atom # 4 Al, 6, is greater than permitted\n",
      "[16:05:09] Explicit valence for atom # 4 Al, 6, is greater than permitted\n",
      "[16:05:09] Explicit valence for atom # 9 Al, 6, is greater than permitted\n",
      "[16:05:09] Explicit valence for atom # 5 Al, 6, is greater than permitted\n",
      "[16:05:09] Explicit valence for atom # 16 Al, 6, is greater than permitted\n",
      "[16:05:10] Explicit valence for atom # 20 Al, 6, is greater than permitted\n",
      "[16:05:10] WARNING: not removing hydrogen atom without neighbors\n",
      "[16:05:11] Explicit valence for atom # 3 Al, 6, is greater than permitted\n",
      "[16:05:11] Explicit valence for atom # 4 Al, 6, is greater than permitted\n",
      "[16:05:12] Explicit valence for atom # 4 Al, 6, is greater than permitted\n",
      "[16:05:12] Explicit valence for atom # 9 Al, 6, is greater than permitted\n",
      "[16:05:12] Explicit valence for atom # 5 Al, 6, is greater than permitted\n",
      "[16:05:12] Explicit valence for atom # 16 Al, 6, is greater than permitted\n",
      "[16:05:13] WARNING: not removing hydrogen atom without neighbors\n",
      "[16:05:14] Explicit valence for atom # 3 Al, 6, is greater than permitted\n",
      "[16:05:14] Explicit valence for atom # 4 Al, 6, is greater than permitted\n",
      "[16:05:14] Explicit valence for atom # 4 Al, 6, is greater than permitted\n",
      "[16:05:15] Explicit valence for atom # 9 Al, 6, is greater than permitted\n",
      "[16:05:15] Explicit valence for atom # 5 Al, 6, is greater than permitted\n",
      "[16:05:15] Explicit valence for atom # 16 Al, 6, is greater than permitted\n",
      "[16:05:15] Explicit valence for atom # 20 Al, 6, is greater than permitted\n",
      "[16:05:16] WARNING: not removing hydrogen atom without neighbors\n",
      "[16:05:17] Explicit valence for atom # 3 Al, 6, is greater than permitted\n",
      "[16:05:17] Explicit valence for atom # 4 Al, 6, is greater than permitted\n",
      "[16:05:17] Explicit valence for atom # 4 Al, 6, is greater than permitted\n",
      "[16:05:18] Explicit valence for atom # 9 Al, 6, is greater than permitted\n",
      "[16:05:18] Explicit valence for atom # 5 Al, 6, is greater than permitted\n",
      "[16:05:18] Explicit valence for atom # 16 Al, 6, is greater than permitted\n",
      "[16:05:18] Explicit valence for atom # 20 Al, 6, is greater than permitted\n",
      "[16:05:19] WARNING: not removing hydrogen atom without neighbors\n",
      "[16:05:20] Explicit valence for atom # 3 Al, 6, is greater than permitted\n",
      "[16:05:20] Explicit valence for atom # 4 Al, 6, is greater than permitted\n",
      "[16:05:20] Explicit valence for atom # 4 Al, 6, is greater than permitted\n",
      "[16:05:20] Explicit valence for atom # 9 Al, 6, is greater than permitted\n",
      "[16:05:20] Explicit valence for atom # 5 Al, 6, is greater than permitted\n",
      "[16:05:21] Explicit valence for atom # 16 Al, 6, is greater than permitted\n",
      "[16:05:21] Explicit valence for atom # 20 Al, 6, is greater than permitted\n",
      "[16:05:22] Explicit valence for atom # 8 Al, 6, is greater than permitted\n",
      "[16:05:22] Explicit valence for atom # 3 Al, 6, is greater than permitted\n",
      "[16:05:22] Explicit valence for atom # 4 Al, 6, is greater than permitted\n",
      "[16:05:23] Explicit valence for atom # 4 Al, 6, is greater than permitted\n",
      "[16:05:23] Explicit valence for atom # 9 Al, 6, is greater than permitted\n",
      "[16:05:23] Explicit valence for atom # 5 Al, 6, is greater than permitted\n",
      "[16:05:23] Explicit valence for atom # 16 Al, 6, is greater than permitted\n",
      "[16:05:24] WARNING: not removing hydrogen atom without neighbors\n",
      "[16:05:25] Explicit valence for atom # 3 Al, 6, is greater than permitted\n",
      "[16:05:25] Explicit valence for atom # 4 Al, 6, is greater than permitted\n",
      "[16:05:25] Explicit valence for atom # 4 Al, 6, is greater than permitted\n",
      "[16:05:26] Explicit valence for atom # 9 Al, 6, is greater than permitted\n",
      "[16:05:26] Explicit valence for atom # 5 Al, 6, is greater than permitted\n",
      "[16:05:26] Explicit valence for atom # 16 Al, 6, is greater than permitted\n",
      "[16:05:27] Explicit valence for atom # 20 Al, 6, is greater than permitted\n",
      "[16:05:28] WARNING: not removing hydrogen atom without neighbors\n",
      "[16:05:28] Explicit valence for atom # 8 Al, 6, is greater than permitted\n",
      "[16:05:29] Explicit valence for atom # 3 Al, 6, is greater than permitted\n",
      "[16:05:29] Explicit valence for atom # 4 Al, 6, is greater than permitted\n",
      "[16:05:29] Explicit valence for atom # 4 Al, 6, is greater than permitted\n",
      "[16:05:30] Explicit valence for atom # 9 Al, 6, is greater than permitted\n",
      "[16:05:30] Explicit valence for atom # 5 Al, 6, is greater than permitted\n",
      "[16:05:30] Explicit valence for atom # 16 Al, 6, is greater than permitted\n",
      "[16:05:31] WARNING: not removing hydrogen atom without neighbors\n",
      "[16:05:32] Explicit valence for atom # 4 Al, 6, is greater than permitted\n",
      "[16:05:33] Explicit valence for atom # 4 Al, 6, is greater than permitted\n",
      "[16:05:33] Explicit valence for atom # 9 Al, 6, is greater than permitted\n",
      "[16:05:33] Explicit valence for atom # 5 Al, 6, is greater than permitted\n",
      "[16:05:33] Explicit valence for atom # 16 Al, 6, is greater than permitted\n",
      "[16:05:34] Explicit valence for atom # 20 Al, 6, is greater than permitted\n",
      "[16:05:34] WARNING: not removing hydrogen atom without neighbors\n",
      "[16:05:35] Explicit valence for atom # 3 Al, 6, is greater than permitted\n",
      "[16:05:35] Explicit valence for atom # 4 Al, 6, is greater than permitted\n",
      "[16:05:36] Explicit valence for atom # 4 Al, 6, is greater than permitted\n",
      "[16:05:36] Explicit valence for atom # 9 Al, 6, is greater than permitted\n",
      "[16:05:36] Explicit valence for atom # 5 Al, 6, is greater than permitted\n",
      "[16:05:37] Explicit valence for atom # 16 Al, 6, is greater than permitted\n",
      "[16:05:37] Explicit valence for atom # 20 Al, 6, is greater than permitted\n"
     ]
    },
    {
     "name": "stdout",
     "output_type": "stream",
     "text": [
      "    Drug_ID                                  Drug    Y  assay  num_C  num_O  \\\n",
      "0   TOX3021          CCOc1ccc2nc(S(N)(=O)=O)sc2c1  0.0  NR-AR    9.0    3.0   \n",
      "1   TOX3020             CCN1C(=O)NC(c2ccccc2)C1=O  0.0  NR-AR   11.0    2.0   \n",
      "2   TOX3027       CCCN(CC)C(CC)C(=O)Nc1c(C)cccc1C  0.0  NR-AR   17.0    1.0   \n",
      "3  TOX20800             CC(O)(P(=O)(O)O)P(=O)(O)O  0.0  NR-AR    2.0    7.0   \n",
      "4   TOX5110  CC(C)(C)OOC(C)(C)CCC(C)(C)OOC(C)(C)C  0.0  NR-AR   16.0    4.0   \n",
      "\n",
      "   num_N  \n",
      "0    2.0  \n",
      "1    2.0  \n",
      "2    2.0  \n",
      "3    0.0  \n",
      "4    0.0  \n"
     ]
    }
   ],
   "source": [
    "from rdkit import Chem\n",
    "\n",
    "# Function to count atoms in SMILES representation\n",
    "def count_atoms(smiles):\n",
    "    mol = Chem.MolFromSmiles(smiles)  # Convert SMILES to molecule\n",
    "    if mol is None:\n",
    "        return None, None, None  # Handle invalid SMILES\n",
    "    num_c = sum(1 for atom in mol.GetAtoms() if atom.GetSymbol() == 'C')\n",
    "    num_o = sum(1 for atom in mol.GetAtoms() if atom.GetSymbol() == 'O')\n",
    "    num_n = sum(1 for atom in mol.GetAtoms() if atom.GetSymbol() == 'N')\n",
    "    return num_c, num_o, num_n\n",
    "\n",
    "# Apply function to create new columns\n",
    "combined_df[['num_C', 'num_O', 'num_N']] = combined_df['Drug'].apply(\n",
    "    lambda x: pd.Series(count_atoms(x))\n",
    ")\n",
    "\n",
    "# View the updated dataset\n",
    "print(combined_df.head())\n"
   ]
  },
  {
   "cell_type": "code",
   "execution_count": 41,
   "id": "de59e33f",
   "metadata": {},
   "outputs": [
    {
     "name": "stderr",
     "output_type": "stream",
     "text": [
      "Found local copy...\n",
      "Loading...\n"
     ]
    },
    {
     "name": "stderr",
     "output_type": "stream",
     "text": [
      "Done!\n",
      "Found local copy...\n",
      "Loading...\n",
      "Done!\n",
      "Found local copy...\n",
      "Loading...\n"
     ]
    },
    {
     "name": "stdout",
     "output_type": "stream",
     "text": [
      "Available toxicity endpoints:\n",
      "['NR-AR', 'NR-AR-LBD', 'NR-AhR', 'NR-Aromatase', 'NR-ER', 'NR-ER-LBD', 'NR-PPAR-gamma', 'SR-ARE', 'SR-ATAD5', 'SR-HSE', 'SR-MMP', 'SR-p53']\n"
     ]
    },
    {
     "name": "stderr",
     "output_type": "stream",
     "text": [
      "Done!\n",
      "Found local copy...\n",
      "Loading...\n",
      "Done!\n",
      "Found local copy...\n",
      "Loading...\n",
      "Done!\n",
      "Found local copy...\n",
      "Loading...\n",
      "Done!\n",
      "Found local copy...\n",
      "Loading...\n",
      "Done!\n",
      "Found local copy...\n",
      "Loading...\n",
      "Done!\n",
      "Found local copy...\n",
      "Loading...\n",
      "Done!\n",
      "Found local copy...\n",
      "Loading...\n",
      "Done!\n",
      "Found local copy...\n",
      "Loading...\n",
      "Done!\n",
      "Found local copy...\n",
      "Loading...\n",
      "Done!\n"
     ]
    },
    {
     "name": "stdout",
     "output_type": "stream",
     "text": [
      "EDA Completed Successfully! Results saved in: ../output/All\n"
     ]
    }
   ],
   "source": [
    "import os\n",
    "import pandas as pd\n",
    "import seaborn as sns\n",
    "import matplotlib.pyplot as plt\n",
    "from tdc.single_pred import Tox\n",
    "from tdc.utils import retrieve_label_name_list\n",
    "\n",
    "# Set output directory\n",
    "output_dir = \"../output/All\"\n",
    "os.makedirs(output_dir, exist_ok=True)\n",
    "\n",
    "# Check available toxicity endpoints\n",
    "label_names = retrieve_label_name_list('Tox21')\n",
    "print(\"Available toxicity endpoints:\")\n",
    "print(label_names)\n",
    "\n",
    "# Save label names\n",
    "with open(os.path.join(output_dir, \"available_toxicity_endpoints.txt\"), \"w\") as f:\n",
    "    f.write(\"\\n\".join(label_names))\n",
    "\n",
    "\n",
    "all_data = []\n",
    "for label in retrieve_label_name_list('Tox21'):\n",
    "    data = Tox(name='Tox21', label_name=label)\n",
    "    df = data.get_data()\n",
    "    df['assay'] = label  # Add assay name as column\n",
    "    all_data.append(df)\n",
    "\n",
    "# Combine all assays\n",
    "df = pd.concat(all_data)\n",
    "\n",
    "\n",
    "# Save the dataset\n",
    "df.to_parquet(os.path.join(output_dir, \"tox21.parquet\"), index=False)\n",
    "\n",
    "# Display basic info\n",
    "info_path = os.path.join(output_dir, \"dataset_info.txt\")\n",
    "with open(info_path, \"w\") as f:\n",
    "    f.write(\"Dataset Info:\\n\")\n",
    "    df.info(buf=f)\n",
    "    f.write(f\"\\nDuplicate Rows: {df.duplicated().sum()}\\n\")\n",
    "\n",
    "# Save summary statistics\n",
    "df.describe().to_csv(os.path.join(output_dir, \"summary_statistics.csv\"))\n",
    "\n",
    "# Count missing values\n",
    "missing_values = df.isnull().sum()\n",
    "missing_values = missing_values[missing_values > 0]\n",
    "if not missing_values.empty:\n",
    "    missing_values.to_csv(os.path.join(output_dir, \"missing_values.csv\"))\n",
    "\n",
    "# Visualizing missing values\n",
    "plt.figure(figsize=(10, 5))\n",
    "sns.heatmap(df.isnull(), cmap='viridis', cbar=False, yticklabels=False)\n",
    "plt.title(\"Missing Values Heatmap\")\n",
    "plt.savefig(os.path.join(output_dir, \"missing_values_heatmap.png\"))\n",
    "plt.close()\n",
    "\n",
    "# Feature distribution (histograms)\n",
    "df.hist(figsize=(12, 8), bins=30, edgecolor='black')\n",
    "plt.suptitle(\"Feature Distributions\")\n",
    "plt.savefig(os.path.join(output_dir, \"feature_distributions.png\"))\n",
    "plt.close()\n",
    "\n",
    "# Get pre-defined train/validation/test splits\n",
    "split = data.get_split(method='random', seed=42, frac=[0.7, 0.1, 0.2])\n",
    "train_data = split['train']\n",
    "valid_data = split['valid']\n",
    "test_data = split['test']\n",
    "\n",
    "# Save train/validation/test splits\n",
    "train_data.to_parquet(os.path.join(output_dir, \"train_data.parquet\"), index=False)\n",
    "valid_data.to_parquet(os.path.join(output_dir, \"valid_data.parquet\"), index=False)\n",
    "test_data.to_parquet(os.path.join(output_dir, \"test_data.parquet\"), index=False)\n",
    "\n",
    "# Combine split data for visualization\n",
    "train_data['set'] = 'train'\n",
    "valid_data['set'] = 'valid'\n",
    "test_data['set'] = 'test'\n",
    "combined_df = pd.concat([train_data, valid_data, test_data])\n",
    "\n",
    "# Boxplots for outlier detection\n",
    "plt.figure(figsize=(12, 6))\n",
    "sns.boxplot(data=combined_df.select_dtypes(include=['float64', 'int64']), palette=\"Set2\")\n",
    "plt.xticks(rotation=45)\n",
    "plt.title(\"Boxplot for Outlier Detection\")\n",
    "plt.savefig(os.path.join(output_dir, \"boxplot_outliers.png\"))\n",
    "plt.close()\n",
    "\n",
    "# Pairplot to visualize feature relationships (small datasets only)\n",
    "if len(df) < 5000:  # Avoid long runtimes for large datasets\n",
    "    pairplot = sns.pairplot(combined_df, hue=\"set\", diag_kind=\"kde\", palette=\"husl\")\n",
    "    pairplot.savefig(os.path.join(output_dir, \"pairplot_features.png\"))\n",
    "    plt.close()\n",
    "\n",
    "print(\"EDA Completed Successfully! Results saved in:\", output_dir)\n"
   ]
  }
 ],
 "metadata": {
  "kernelspec": {
   "display_name": "sugar",
   "language": "python",
   "name": "python3"
  },
  "language_info": {
   "codemirror_mode": {
    "name": "ipython",
    "version": 3
   },
   "file_extension": ".py",
   "mimetype": "text/x-python",
   "name": "python",
   "nbconvert_exporter": "python",
   "pygments_lexer": "ipython3",
   "version": "3.12.9"
  }
 },
 "nbformat": 4,
 "nbformat_minor": 5
}
