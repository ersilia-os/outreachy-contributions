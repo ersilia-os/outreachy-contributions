{
 "cells": [
  {
   "cell_type": "code",
   "execution_count": 2,
   "id": "4e87f20a",
   "metadata": {},
   "outputs": [],
   "source": [
    "from tdc.single_pred import Tox\n",
    "import pandas as pd\n",
    "import seaborn as sns\n",
    "import matplotlib.pyplot as plt\n",
    "from tdc.utils import retrieve_label_name_list"
   ]
  },
  {
   "cell_type": "code",
   "execution_count": 3,
   "id": "091b10a8",
   "metadata": {},
   "outputs": [
    {
     "name": "stderr",
     "output_type": "stream",
     "text": [
      "Found local copy...\n",
      "Loading...\n"
     ]
    },
    {
     "name": "stdout",
     "output_type": "stream",
     "text": [
      "Available toxicity endpoints:\n",
      "['NR-AR', 'NR-AR-LBD', 'NR-AhR', 'NR-Aromatase', 'NR-ER', 'NR-ER-LBD', 'NR-PPAR-gamma', 'SR-ARE', 'SR-ATAD5', 'SR-HSE', 'SR-MMP', 'SR-p53']\n"
     ]
    },
    {
     "name": "stderr",
     "output_type": "stream",
     "text": [
      "Done!\n",
      "Found local copy...\n",
      "Loading...\n",
      "Done!\n",
      "Found local copy...\n",
      "Loading...\n",
      "Done!\n",
      "Found local copy...\n",
      "Loading...\n",
      "Done!\n",
      "Found local copy...\n",
      "Loading...\n",
      "Done!\n",
      "Found local copy...\n",
      "Loading...\n",
      "Done!\n",
      "Found local copy...\n",
      "Loading...\n",
      "Done!\n",
      "Found local copy...\n",
      "Loading...\n",
      "Done!\n",
      "Found local copy...\n",
      "Loading...\n",
      "Done!\n",
      "Found local copy...\n",
      "Loading...\n",
      "Done!\n",
      "Found local copy...\n",
      "Loading...\n",
      "Done!\n",
      "Found local copy...\n",
      "Loading...\n",
      "Done!\n"
     ]
    }
   ],
   "source": [
    "# First, check available toxicity endpoints\n",
    "label_names = retrieve_label_name_list('Tox21')\n",
    "print(\"Available toxicity endpoints:\")\n",
    "print(label_names)\n",
    "# Get all endpoints\n",
    "all_data = []\n",
    "for label in retrieve_label_name_list('Tox21'):\n",
    "    data = Tox(name='Tox21', label_name=label)\n",
    "    df = data.get_data()\n",
    "    df['assay'] = label  # Add assay name as column\n",
    "    all_data.append(df)\n",
    "\n",
    "# Combine all assays\n",
    "combined_df = pd.concat(all_data)"
   ]
  },
  {
   "cell_type": "code",
   "execution_count": 4,
   "id": "e25e5a64",
   "metadata": {},
   "outputs": [],
   "source": [
    "import pandas as pd\n",
    "import numpy as np\n",
    "import matplotlib.pyplot as plt\n",
    "import seaborn as sns\n",
    "\n",
    "# Display settings\n",
    "pd.set_option(\"display.max_columns\", None)\n",
    "sns.set_style(\"whitegrid\")\n",
    "\n"
   ]
  },
  {
   "cell_type": "code",
   "execution_count": 5,
   "id": "022acc9d",
   "metadata": {},
   "outputs": [
    {
     "name": "stdout",
     "output_type": "stream",
     "text": [
      "Dataset Shape: (77946, 4)\n"
     ]
    }
   ],
   "source": [
    "# Check dataset shape\n",
    "print(f\"Dataset Shape: {combined_df.shape}\")"
   ]
  },
  {
   "cell_type": "code",
   "execution_count": 6,
   "id": "ca9b53d4",
   "metadata": {},
   "outputs": [
    {
     "name": "stdout",
     "output_type": "stream",
     "text": [
      "Drug_ID     object\n",
      "Drug        object\n",
      "Y          float64\n",
      "assay       object\n",
      "dtype: object\n"
     ]
    }
   ],
   "source": [
    "print(combined_df.dtypes) "
   ]
  },
  {
   "cell_type": "code",
   "execution_count": 7,
   "id": "c57365ed",
   "metadata": {},
   "outputs": [
    {
     "name": "stdout",
     "output_type": "stream",
     "text": [
      "\n",
      "Dataset Info:\n",
      "<class 'pandas.core.frame.DataFrame'>\n",
      "Index: 77946 entries, 0 to 6773\n",
      "Data columns (total 4 columns):\n",
      " #   Column   Non-Null Count  Dtype  \n",
      "---  ------   --------------  -----  \n",
      " 0   Drug_ID  77946 non-null  object \n",
      " 1   Drug     77946 non-null  object \n",
      " 2   Y        77946 non-null  float64\n",
      " 3   assay    77946 non-null  object \n",
      "dtypes: float64(1), object(3)\n",
      "memory usage: 3.0+ MB\n",
      "None\n"
     ]
    }
   ],
   "source": [
    "# Display basic info\n",
    "print(\"\\nDataset Info:\")\n",
    "print(combined_df.info())\n",
    "\n"
   ]
  },
  {
   "cell_type": "code",
   "execution_count": 8,
   "id": "b30a4287",
   "metadata": {},
   "outputs": [
    {
     "name": "stdout",
     "output_type": "stream",
     "text": [
      "\n",
      "First Few Rows:\n",
      "    Drug_ID                                  Drug    Y  assay\n",
      "0   TOX3021          CCOc1ccc2nc(S(N)(=O)=O)sc2c1  0.0  NR-AR\n",
      "1   TOX3020             CCN1C(=O)NC(c2ccccc2)C1=O  0.0  NR-AR\n",
      "2   TOX3027       CCCN(CC)C(CC)C(=O)Nc1c(C)cccc1C  0.0  NR-AR\n",
      "3  TOX20800             CC(O)(P(=O)(O)O)P(=O)(O)O  0.0  NR-AR\n",
      "4   TOX5110  CC(C)(C)OOC(C)(C)CCC(C)(C)OOC(C)(C)C  0.0  NR-AR\n"
     ]
    }
   ],
   "source": [
    "# Display first few rows\n",
    "print(\"\\nFirst Few Rows:\")\n",
    "print(combined_df.head())"
   ]
  },
  {
   "cell_type": "code",
   "execution_count": 9,
   "id": "f5595e7f",
   "metadata": {},
   "outputs": [
    {
     "name": "stdout",
     "output_type": "stream",
     "text": [
      "\n",
      "Duplicate Rows: 0\n"
     ]
    }
   ],
   "source": [
    "# Check for duplicate rows\n",
    "print(f\"\\nDuplicate Rows: {combined_df.duplicated().sum()}\")"
   ]
  },
  {
   "cell_type": "code",
   "execution_count": 10,
   "id": "0291d54f",
   "metadata": {},
   "outputs": [
    {
     "name": "stdout",
     "output_type": "stream",
     "text": [
      "\n",
      "Summary Statistics:\n",
      "                 Y\n",
      "count  6774.000000\n",
      "mean      0.062445\n",
      "std       0.241979\n",
      "min       0.000000\n",
      "25%       0.000000\n",
      "50%       0.000000\n",
      "75%       0.000000\n",
      "max       1.000000\n"
     ]
    }
   ],
   "source": [
    "# Summary statistics\n",
    "print(\"\\nSummary Statistics:\")\n",
    "print(df.describe())"
   ]
  },
  {
   "cell_type": "code",
   "execution_count": 11,
   "id": "0441aa2c",
   "metadata": {},
   "outputs": [
    {
     "name": "stdout",
     "output_type": "stream",
     "text": [
      "\n",
      "Missing Values:\n",
      "Series([], dtype: int64)\n"
     ]
    }
   ],
   "source": [
    "# Count missing values\n",
    "missing_values = combined_df.isnull().sum()\n",
    "print(\"\\nMissing Values:\")\n",
    "print(missing_values[missing_values > 0])"
   ]
  },
  {
   "cell_type": "code",
   "execution_count": 12,
   "id": "104ad9f9",
   "metadata": {},
   "outputs": [
    {
     "data": {
      "image/png": "[encoded data removed]",
      "text/plain": [
       "<Figure size 1000x500 with 1 Axes>"
      ]
     },
     "metadata": {},
     "output_type": "display_data"
    }
   ],
   "source": [
    "# Visualizing missing values\n",
    "plt.figure(figsize=(10, 5))\n",
    "sns.heatmap(combined_df.isnull(), cmap='viridis', cbar=False, yticklabels=False)\n",
    "plt.title(\"Missing Values Heatmap\")\n",
    "plt.show()"
   ]
  },
  {
   "cell_type": "code",
   "execution_count": 13,
   "id": "32f0ce6c",
   "metadata": {},
   "outputs": [
    {
     "data": {
      "image/png": "[encoded data removed]",
      "text/plain": [
       "<Figure size 1200x500 with 1 Axes>"
      ]
     },
     "metadata": {},
     "output_type": "display_data"
    }
   ],
   "source": [
    "# Class distribution of toxicity labels\n",
    "plt.figure(figsize=(12, 5))\n",
    "sns.countplot(y=\"assay\", data=combined_df, order=combined_df[\"assay\"].value_counts().index, palette=\"coolwarm\")\n",
    "plt.title(\"Toxicity Endpoints Distribution\")\n",
    "plt.xlabel(\"Count\")\n",
    "plt.ylabel(\"Assay Name\")\n",
    "plt.show()"
   ]
  },
  {
   "cell_type": "code",
   "execution_count": 14,
   "id": "9d41a726",
   "metadata": {},
   "outputs": [
    {
     "data": {
      "image/png": "[encoded data removed]",
      "text/plain": [
       "<Figure size 1200x800 with 1 Axes>"
      ]
     },
     "metadata": {},
     "output_type": "display_data"
    }
   ],
   "source": [
    "# Feature distribution (histograms)\n",
    "combined_df.hist(figsize=(12, 8), bins=30, edgecolor='black')\n",
    "plt.suptitle(\"Feature Distributions\")\n",
    "plt.show()"
   ]
  },
  {
   "cell_type": "code",
   "execution_count": 15,
   "id": "bf2f9885",
   "metadata": {},
   "outputs": [
    {
     "data": {
      "image/png": "[encoded data removed]",
      "text/plain": [
       "<Figure size 1200x600 with 1 Axes>"
      ]
     },
     "metadata": {},
     "output_type": "display_data"
    },
    {
     "name": "stdout",
     "output_type": "stream",
     "text": [
      "EDA Completed Successfully!\n"
     ]
    }
   ],
   "source": [
    "# Boxplots for outlier detection\n",
    "plt.figure(figsize=(12, 6))\n",
    "sns.boxplot(data=combined_df.select_dtypes(include=['float64', 'int64']), palette=\"Set2\")\n",
    "plt.xticks(rotation=45)\n",
    "plt.title(\"Boxplot for Outlier Detection\")\n",
    "plt.show()\n",
    "\n",
    "# Pairplot to visualize feature relationships\n",
    "# Uncomment for small datasets (can be slow for large data)\n",
    "# sns.pairplot(combined_df, hue=\"assay\", diag_kind=\"kde\", palette=\"husl\")\n",
    "# plt.show()\n",
    "\n",
    "print(\"EDA Completed Successfully!\")"
   ]
  },
  {
   "cell_type": "code",
   "execution_count": 16,
   "id": "2762ef5d",
   "metadata": {},
   "outputs": [],
   "source": [
    "# combined_df.to_parquet('../data/All/tox21_combined_data.parquet', index=False)\n",
    "# print(\"Dataset downloaded and saved as 'tox21_dataset.parquet'\")"
   ]
  },
  {
   "cell_type": "code",
   "execution_count": 17,
   "id": "44453dba",
   "metadata": {},
   "outputs": [
    {
     "name": "stderr",
     "output_type": "stream",
     "text": [
      "[12:23:31] WARNING: not removing hydrogen atom without neighbors\n",
      "[12:23:34] Explicit valence for atom # 3 Al, 6, is greater than permitted\n",
      "[12:23:34] Explicit valence for atom # 4 Al, 6, is greater than permitted\n",
      "[12:23:35] Explicit valence for atom # 4 Al, 6, is greater than permitted\n",
      "[12:23:37] Explicit valence for atom # 9 Al, 6, is greater than permitted\n",
      "[12:23:37] Explicit valence for atom # 5 Al, 6, is greater than permitted\n",
      "[12:23:38] Explicit valence for atom # 16 Al, 6, is greater than permitted\n",
      "[12:23:39] Explicit valence for atom # 20 Al, 6, is greater than permitted\n",
      "[12:23:41] WARNING: not removing hydrogen atom without neighbors\n",
      "[12:23:43] Explicit valence for atom # 3 Al, 6, is greater than permitted\n",
      "[12:23:43] Explicit valence for atom # 4 Al, 6, is greater than permitted\n",
      "[12:23:45] Explicit valence for atom # 4 Al, 6, is greater than permitted\n",
      "[12:23:46] Explicit valence for atom # 9 Al, 6, is greater than permitted\n",
      "[12:23:46] Explicit valence for atom # 5 Al, 6, is greater than permitted\n",
      "[12:23:47] Explicit valence for atom # 16 Al, 6, is greater than permitted\n",
      "[12:23:48] Explicit valence for atom # 20 Al, 6, is greater than permitted\n",
      "[12:23:50] WARNING: not removing hydrogen atom without neighbors\n",
      "[12:23:52] Explicit valence for atom # 3 Al, 6, is greater than permitted\n",
      "[12:23:52] Explicit valence for atom # 4 Al, 6, is greater than permitted\n",
      "[12:23:54] Explicit valence for atom # 4 Al, 6, is greater than permitted\n",
      "[12:23:55] Explicit valence for atom # 9 Al, 6, is greater than permitted\n",
      "[12:23:55] Explicit valence for atom # 5 Al, 6, is greater than permitted\n",
      "[12:23:57] Explicit valence for atom # 16 Al, 6, is greater than permitted\n",
      "[12:23:58] Explicit valence for atom # 20 Al, 6, is greater than permitted\n",
      "[12:24:00] WARNING: not removing hydrogen atom without neighbors\n",
      "[12:24:02] Explicit valence for atom # 3 Al, 6, is greater than permitted\n",
      "[12:24:02] Explicit valence for atom # 4 Al, 6, is greater than permitted\n",
      "[12:24:03] Explicit valence for atom # 4 Al, 6, is greater than permitted\n",
      "[12:24:04] Explicit valence for atom # 9 Al, 6, is greater than permitted\n",
      "[12:24:04] Explicit valence for atom # 5 Al, 6, is greater than permitted\n",
      "[12:24:05] Explicit valence for atom # 16 Al, 6, is greater than permitted\n",
      "[12:24:07] WARNING: not removing hydrogen atom without neighbors\n",
      "[12:24:11] Explicit valence for atom # 3 Al, 6, is greater than permitted\n",
      "[12:24:11] Explicit valence for atom # 4 Al, 6, is greater than permitted\n",
      "[12:24:12] Explicit valence for atom # 4 Al, 6, is greater than permitted\n",
      "[12:24:13] Explicit valence for atom # 9 Al, 6, is greater than permitted\n",
      "[12:24:13] Explicit valence for atom # 5 Al, 6, is greater than permitted\n",
      "[12:24:14] Explicit valence for atom # 16 Al, 6, is greater than permitted\n",
      "[12:24:15] Explicit valence for atom # 20 Al, 6, is greater than permitted\n",
      "[12:24:17] WARNING: not removing hydrogen atom without neighbors\n",
      "[12:24:19] Explicit valence for atom # 3 Al, 6, is greater than permitted\n",
      "[12:24:19] Explicit valence for atom # 4 Al, 6, is greater than permitted\n",
      "[12:24:20] Explicit valence for atom # 4 Al, 6, is greater than permitted\n",
      "[12:24:21] Explicit valence for atom # 9 Al, 6, is greater than permitted\n",
      "[12:24:22] Explicit valence for atom # 5 Al, 6, is greater than permitted\n",
      "[12:24:22] Explicit valence for atom # 16 Al, 6, is greater than permitted\n",
      "[12:24:24] Explicit valence for atom # 20 Al, 6, is greater than permitted\n",
      "[12:24:25] WARNING: not removing hydrogen atom without neighbors\n",
      "[12:24:27] Explicit valence for atom # 3 Al, 6, is greater than permitted\n",
      "[12:24:27] Explicit valence for atom # 4 Al, 6, is greater than permitted\n",
      "[12:24:28] Explicit valence for atom # 4 Al, 6, is greater than permitted\n",
      "[12:24:29] Explicit valence for atom # 9 Al, 6, is greater than permitted\n",
      "[12:24:29] Explicit valence for atom # 5 Al, 6, is greater than permitted\n",
      "[12:24:30] Explicit valence for atom # 16 Al, 6, is greater than permitted\n",
      "[12:24:31] Explicit valence for atom # 20 Al, 6, is greater than permitted\n",
      "[12:24:33] Explicit valence for atom # 8 Al, 6, is greater than permitted\n",
      "[12:24:34] Explicit valence for atom # 3 Al, 6, is greater than permitted\n",
      "[12:24:34] Explicit valence for atom # 4 Al, 6, is greater than permitted\n",
      "[12:24:35] Explicit valence for atom # 4 Al, 6, is greater than permitted\n",
      "[12:24:36] Explicit valence for atom # 9 Al, 6, is greater than permitted\n",
      "[12:24:36] Explicit valence for atom # 5 Al, 6, is greater than permitted\n",
      "[12:24:37] Explicit valence for atom # 16 Al, 6, is greater than permitted\n",
      "[12:24:39] WARNING: not removing hydrogen atom without neighbors\n",
      "[12:24:41] Explicit valence for atom # 3 Al, 6, is greater than permitted\n",
      "[12:24:41] Explicit valence for atom # 4 Al, 6, is greater than permitted\n",
      "[12:24:43] Explicit valence for atom # 4 Al, 6, is greater than permitted\n",
      "[12:24:44] Explicit valence for atom # 9 Al, 6, is greater than permitted\n",
      "[12:24:44] Explicit valence for atom # 5 Al, 6, is greater than permitted\n",
      "[12:24:45] Explicit valence for atom # 16 Al, 6, is greater than permitted\n",
      "[12:24:46] Explicit valence for atom # 20 Al, 6, is greater than permitted\n",
      "[12:24:47] WARNING: not removing hydrogen atom without neighbors\n",
      "[12:24:48] Explicit valence for atom # 8 Al, 6, is greater than permitted\n",
      "[12:24:49] Explicit valence for atom # 3 Al, 6, is greater than permitted\n",
      "[12:24:49] Explicit valence for atom # 4 Al, 6, is greater than permitted\n",
      "[12:24:50] Explicit valence for atom # 4 Al, 6, is greater than permitted\n",
      "[12:24:51] Explicit valence for atom # 9 Al, 6, is greater than permitted\n",
      "[12:24:51] Explicit valence for atom # 5 Al, 6, is greater than permitted\n",
      "[12:24:52] Explicit valence for atom # 16 Al, 6, is greater than permitted\n",
      "[12:24:54] WARNING: not removing hydrogen atom without neighbors\n",
      "[12:24:56] Explicit valence for atom # 4 Al, 6, is greater than permitted\n",
      "[12:24:57] Explicit valence for atom # 4 Al, 6, is greater than permitted\n",
      "[12:24:57] Explicit valence for atom # 9 Al, 6, is greater than permitted\n",
      "[12:24:58] Explicit valence for atom # 5 Al, 6, is greater than permitted\n",
      "[12:24:58] Explicit valence for atom # 16 Al, 6, is greater than permitted\n",
      "[12:24:59] Explicit valence for atom # 20 Al, 6, is greater than permitted\n",
      "[12:25:00] WARNING: not removing hydrogen atom without neighbors\n",
      "[12:25:03] Explicit valence for atom # 3 Al, 6, is greater than permitted\n",
      "[12:25:03] Explicit valence for atom # 4 Al, 6, is greater than permitted\n",
      "[12:25:04] Explicit valence for atom # 4 Al, 6, is greater than permitted\n",
      "[12:25:05] Explicit valence for atom # 9 Al, 6, is greater than permitted\n",
      "[12:25:05] Explicit valence for atom # 5 Al, 6, is greater than permitted\n",
      "[12:25:06] Explicit valence for atom # 16 Al, 6, is greater than permitted\n",
      "[12:25:07] Explicit valence for atom # 20 Al, 6, is greater than permitted\n"
     ]
    },
    {
     "name": "stdout",
     "output_type": "stream",
     "text": [
      "    Drug_ID                                  Drug    Y  assay  num_C  num_O  \\\n",
      "0   TOX3021          CCOc1ccc2nc(S(N)(=O)=O)sc2c1  0.0  NR-AR    9.0    3.0   \n",
      "1   TOX3020             CCN1C(=O)NC(c2ccccc2)C1=O  0.0  NR-AR   11.0    2.0   \n",
      "2   TOX3027       CCCN(CC)C(CC)C(=O)Nc1c(C)cccc1C  0.0  NR-AR   17.0    1.0   \n",
      "3  TOX20800             CC(O)(P(=O)(O)O)P(=O)(O)O  0.0  NR-AR    2.0    7.0   \n",
      "4   TOX5110  CC(C)(C)OOC(C)(C)CCC(C)(C)OOC(C)(C)C  0.0  NR-AR   16.0    4.0   \n",
      "\n",
      "   num_N  \n",
      "0    2.0  \n",
      "1    2.0  \n",
      "2    2.0  \n",
      "3    0.0  \n",
      "4    0.0  \n"
     ]
    }
   ],
   "source": [
    "from rdkit import Chem\n",
    "\n",
    "# Function to count atoms in SMILES representation\n",
    "def count_atoms(smiles):\n",
    "    mol = Chem.MolFromSmiles(smiles)  # Convert SMILES to molecule\n",
    "    if mol is None:\n",
    "        return None, None, None  # Handle invalid SMILES\n",
    "    num_c = sum(1 for atom in mol.GetAtoms() if atom.GetSymbol() == 'C')\n",
    "    num_o = sum(1 for atom in mol.GetAtoms() if atom.GetSymbol() == 'O')\n",
    "    num_n = sum(1 for atom in mol.GetAtoms() if atom.GetSymbol() == 'N')\n",
    "    return num_c, num_o, num_n\n",
    "\n",
    "# Apply function to create new columns\n",
    "combined_df[['num_C', 'num_O', 'num_N']] = combined_df['Drug'].apply(\n",
    "    lambda x: pd.Series(count_atoms(x))\n",
    ")\n",
    "\n",
    "# View the updated dataset\n",
    "print(combined_df.head())\n"
   ]
  },
  {
   "cell_type": "code",
   "execution_count": 20,
   "id": "c3fffd19",
   "metadata": {},
   "outputs": [
    {
     "ename": "ImportError",
     "evalue": "cannot import name 'list_models' from 'eosce.models' (C:\\Users\\DELL\\AppData\\Roaming\\Python\\Python312\\site-packages\\eosce\\models.py)",
     "output_type": "error",
     "traceback": [
      "\u001b[31m---------------------------------------------------------------------------\u001b[39m",
      "\u001b[31mImportError\u001b[39m                               Traceback (most recent call last)",
      "\u001b[36mCell\u001b[39m\u001b[36m \u001b[39m\u001b[32mIn[20]\u001b[39m\u001b[32m, line 1\u001b[39m\n\u001b[32m----> \u001b[39m\u001b[32m1\u001b[39m \u001b[38;5;28;01mfrom\u001b[39;00m\u001b[38;5;250m \u001b[39m\u001b[34;01meosce\u001b[39;00m\u001b[34;01m.\u001b[39;00m\u001b[34;01mmodels\u001b[39;00m\u001b[38;5;250m \u001b[39m\u001b[38;5;28;01mimport\u001b[39;00m list_models\n\u001b[32m      3\u001b[39m \u001b[38;5;66;03m# List all available models\u001b[39;00m\n\u001b[32m      4\u001b[39m models = list_models()\n",
      "\u001b[31mImportError\u001b[39m: cannot import name 'list_models' from 'eosce.models' (C:\\Users\\DELL\\AppData\\Roaming\\Python\\Python312\\site-packages\\eosce\\models.py)"
     ]
    }
   ],
   "source": [
    "from eosce.models import list_models\n",
    "\n",
    "# List all available models\n",
    "models = list_models()\n",
    "print(models)\n"
   ]
  },
  {
   "cell_type": "code",
   "execution_count": null,
   "id": "2f4e7476",
   "metadata": {},
   "outputs": [],
   "source": []
  },
  {
   "cell_type": "code",
   "execution_count": null,
   "id": "e14e628d",
   "metadata": {},
   "outputs": [
    {
     "name": "stdout",
     "output_type": "stream",
     "text": [
      "Available toxicity endpoints:\n",
      "['NR-AR', 'NR-AR-LBD', 'NR-AhR', 'NR-Aromatase', 'NR-ER', 'NR-ER-LBD', 'NR-PPAR-gamma', 'SR-ARE', 'SR-ATAD5', 'SR-HSE', 'SR-MMP', 'SR-p53']\n"
     ]
    }
   ],
   "source": []
  },
  {
   "cell_type": "code",
   "execution_count": null,
   "id": "fbf607f4",
   "metadata": {},
   "outputs": [
    {
     "name": "stderr",
     "output_type": "stream",
     "text": [
      "Found local copy...\n",
      "Loading...\n",
      "Done!\n"
     ]
    }
   ],
   "source": []
  },
  {
   "cell_type": "code",
   "execution_count": null,
   "id": "c7de6e63",
   "metadata": {},
   "outputs": [
    {
     "name": "stdout",
     "output_type": "stream",
     "text": [
      "    Drug_ID                                  Drug    Y\n",
      "0   TOX3021          CCOc1ccc2nc(S(N)(=O)=O)sc2c1  0.0\n",
      "1   TOX3020             CCN1C(=O)NC(c2ccccc2)C1=O  0.0\n",
      "2   TOX3027       CCCN(CC)C(CC)C(=O)Nc1c(C)cccc1C  0.0\n",
      "3  TOX20800             CC(O)(P(=O)(O)O)P(=O)(O)O  0.0\n",
      "4   TOX5110  CC(C)(C)OOC(C)(C)CCC(C)(C)OOC(C)(C)C  0.0\n"
     ]
    }
   ],
   "source": []
  },
  {
   "cell_type": "code",
   "execution_count": null,
   "id": "9e50cda4",
   "metadata": {},
   "outputs": [
    {
     "name": "stdout",
     "output_type": "stream",
     "text": [
      "Dataset Shape: (7265, 3)\n"
     ]
    }
   ],
   "source": []
  },
  {
   "cell_type": "code",
   "execution_count": null,
   "id": "220fd983",
   "metadata": {},
   "outputs": [
    {
     "name": "stdout",
     "output_type": "stream",
     "text": [
      "Drug_ID     object\n",
      "Drug        object\n",
      "Y          float64\n",
      "dtype: object\n"
     ]
    }
   ],
   "source": []
  },
  {
   "cell_type": "code",
   "execution_count": null,
   "id": "e257b078",
   "metadata": {},
   "outputs": [
    {
     "name": "stdout",
     "output_type": "stream",
     "text": [
      "\n",
      "Dataset Info:\n",
      "<class 'pandas.core.frame.DataFrame'>\n",
      "RangeIndex: 7265 entries, 0 to 7264\n",
      "Data columns (total 3 columns):\n",
      " #   Column   Non-Null Count  Dtype  \n",
      "---  ------   --------------  -----  \n",
      " 0   Drug_ID  7265 non-null   object \n",
      " 1   Drug     7265 non-null   object \n",
      " 2   Y        7265 non-null   float64\n",
      "dtypes: float64(1), object(2)\n",
      "memory usage: 170.4+ KB\n",
      "None\n"
     ]
    }
   ],
   "source": []
  },
  {
   "cell_type": "code",
   "execution_count": null,
   "id": "78fc3f2e",
   "metadata": {},
   "outputs": [
    {
     "name": "stdout",
     "output_type": "stream",
     "text": [
      "\n",
      "Duplicate Rows: 0\n"
     ]
    }
   ],
   "source": []
  },
  {
   "cell_type": "code",
   "execution_count": null,
   "id": "0a4c2b58",
   "metadata": {},
   "outputs": [
    {
     "name": "stdout",
     "output_type": "stream",
     "text": [
      "\n",
      "Summary Statistics:\n",
      "                 Y\n",
      "count  7265.000000\n",
      "mean      0.042533\n",
      "std       0.201815\n",
      "min       0.000000\n",
      "25%       0.000000\n",
      "50%       0.000000\n",
      "75%       0.000000\n",
      "max       1.000000\n"
     ]
    }
   ],
   "source": []
  },
  {
   "cell_type": "code",
   "execution_count": null,
   "id": "c71f2211",
   "metadata": {},
   "outputs": [
    {
     "name": "stdout",
     "output_type": "stream",
     "text": [
      "\n",
      "Missing Values:\n",
      "Series([], dtype: int64)\n"
     ]
    }
   ],
   "source": []
  },
  {
   "cell_type": "code",
   "execution_count": null,
   "id": "6650e272",
   "metadata": {},
   "outputs": [
    {
     "data": {
      "image/png": "[encoded data removed]",
      "text/plain": [
       "<Figure size 1000x500 with 1 Axes>"
      ]
     },
     "metadata": {},
     "output_type": "display_data"
    }
   ],
   "source": []
  },
  {
   "cell_type": "code",
   "execution_count": null,
   "id": "4f5405d0",
   "metadata": {},
   "outputs": [
    {
     "data": {
      "image/png": "[encoded data removed]",
      "text/plain": [
       "<Figure size 1200x800 with 1 Axes>"
      ]
     },
     "metadata": {},
     "output_type": "display_data"
    }
   ],
   "source": []
  },
  {
   "cell_type": "code",
   "execution_count": null,
   "id": "5549a6f4",
   "metadata": {},
   "outputs": [
    {
     "data": {
      "image/png": "[encoded data removed]",
      "text/plain": [
       "<Figure size 1200x600 with 1 Axes>"
      ]
     },
     "metadata": {},
     "output_type": "display_data"
    },
    {
     "name": "stdout",
     "output_type": "stream",
     "text": [
      "EDA Completed Successfully!\n"
     ]
    }
   ],
   "source": []
  },
  {
   "cell_type": "code",
   "execution_count": null,
   "id": "6477f449",
   "metadata": {},
   "outputs": [],
   "source": []
  },
  {
   "cell_type": "code",
   "execution_count": null,
   "id": "2b87ade2",
   "metadata": {},
   "outputs": [],
   "source": []
  },
  {
   "cell_type": "code",
   "execution_count": null,
   "id": "68bd94be",
   "metadata": {},
   "outputs": [
    {
     "data": {
      "text/plain": [
       "Text(0.5, 1.0, 'Class Distribution Across Splits')"
      ]
     },
     "metadata": {},
     "output_type": "display_data"
    },
    {
     "data": {
      "image/png": "[encoded data removed]",
      "text/plain": [
       "<Figure size 1200x500 with 1 Axes>"
      ]
     },
     "metadata": {},
     "output_type": "display_data"
    }
   ],
   "source": []
  },
  {
   "cell_type": "code",
   "execution_count": null,
   "id": "16a1c45f",
   "metadata": {},
   "outputs": [],
   "source": []
  },
  {
   "cell_type": "code",
   "execution_count": null,
   "id": "4c732f75",
   "metadata": {},
   "outputs": [],
   "source": []
  },
  {
   "cell_type": "code",
   "execution_count": null,
   "id": "bbcb2d9a",
   "metadata": {},
   "outputs": [],
   "source": []
  },
  {
   "cell_type": "code",
   "execution_count": null,
   "id": "bbe84844",
   "metadata": {},
   "outputs": [],
   "source": []
  },
  {
   "cell_type": "code",
   "execution_count": null,
   "id": "dfea796f",
   "metadata": {},
   "outputs": [],
   "source": []
  },
  {
   "cell_type": "code",
   "execution_count": null,
   "id": "1d008d8f",
   "metadata": {},
   "outputs": [],
   "source": []
  },
  {
   "cell_type": "code",
   "execution_count": null,
   "id": "ccf159d0",
   "metadata": {},
   "outputs": [],
   "source": []
  },
  {
   "cell_type": "code",
   "execution_count": null,
   "id": "43660774",
   "metadata": {},
   "outputs": [],
   "source": []
  },
  {
   "cell_type": "code",
   "execution_count": null,
   "id": "10f5a4d1",
   "metadata": {},
   "outputs": [],
   "source": []
  },
  {
   "cell_type": "code",
   "execution_count": null,
   "id": "949a9d7f",
   "metadata": {},
   "outputs": [],
   "source": []
  },
  {
   "cell_type": "code",
   "execution_count": null,
   "id": "dc6b7107",
   "metadata": {},
   "outputs": [],
   "source": []
  },
  {
   "cell_type": "code",
   "execution_count": null,
   "id": "44ceb3fc",
   "metadata": {},
   "outputs": [],
   "source": []
  },
  {
   "cell_type": "code",
   "execution_count": null,
   "id": "f87b3a9d",
   "metadata": {},
   "outputs": [],
   "source": []
  },
  {
   "cell_type": "code",
   "execution_count": null,
   "id": "f89e83a1",
   "metadata": {},
   "outputs": [],
   "source": []
  },
  {
   "cell_type": "code",
   "execution_count": null,
   "id": "be7d3b35",
   "metadata": {},
   "outputs": [],
   "source": []
  }
 ],
 "metadata": {
  "kernelspec": {
   "display_name": "sugar",
   "language": "python",
   "name": "python3"
  },
  "language_info": {
   "codemirror_mode": {
    "name": "ipython",
    "version": 3
   },
   "file_extension": ".py",
   "mimetype": "text/x-python",
   "name": "python",
   "nbconvert_exporter": "python",
   "pygments_lexer": "ipython3",
   "version": "3.12.9"
  }
 },
 "nbformat": 4,
 "nbformat_minor": 5
}
