{
 "cells": [
  {
   "cell_type": "code",
   "execution_count": null,
   "metadata": {},
   "outputs": [
    {
     "name": "stderr",
     "output_type": "stream",
     "text": [
      "[15:55:19] WARNING: not removing hydrogen atom without neighbors\n"
     ]
    }
   ],
   "source": [
    "import pandas as pd\n",
    "import numpy as np\n",
    "from eosce.models import ErsiliaCompoundEmbeddings\n",
    "from pathlib import Path"
   ]
  },
  {
   "cell_type": "code",
   "execution_count": null,
   "metadata": {},
   "outputs": [],
   "source": [
    "# 1. Load Tox21 dataset (Parquet format)\n",
    "tox21_path = Path(\"../data/Single/tox21_NR-AR.parquet\")  # Replace with your actual file path\n",
    "tox21_df = pd.read_parquet(tox21_path)"
   ]
  },
  {
   "cell_type": "code",
   "execution_count": null,
   "metadata": {},
   "outputs": [],
   "source": [
    "# 2. Initialize Ersilia's compound embedding model\n",
    "model = ErsiliaCompoundEmbeddings()  # Uses eos2gw4 under the hood\n",
    "\n",
    "# 3. Featurize SMILES in batches (memory-efficient)\n",
    "batch_size = 1000\n",
    "embeddings = []"
   ]
  },
  {
   "cell_type": "code",
   "execution_count": null,
   "metadata": {},
   "outputs": [],
   "source": [
    "for i in range(0, len(tox21_df), batch_size):\n",
    "    batch = tox21_df[\"Drug\"].iloc[i:i+batch_size].dropna().tolist()  # Assumes column named \"smiles\"\n",
    "    if batch:\n",
    "        embeddings.extend(model.transform(batch))  # Returns 1024-dim vectors"
   ]
  },
  {
   "cell_type": "code",
   "execution_count": null,
   "metadata": {},
   "outputs": [],
   "source": [
    "# 4. Save featurized data\n",
    "featurized_df = tox21_df.copy().iloc[:len(embeddings)]  # Match original rows\n",
    "featurized_df[\"embedding\"] = embeddings  # Add new column with embeddings\n",
    "featurized_df.to_parquet(\"../output/Single/tox21_NR-AR_featurized.parquet\")  # Save back to Parquet"
   ]
  },
  {
   "cell_type": "code",
   "execution_count": null,
   "metadata": {},
   "outputs": [
    {
     "data": {
      "text/html": [
       "<div>\n",
       "<style scoped>\n",
       "    .dataframe tbody tr th:only-of-type {\n",
       "        vertical-align: middle;\n",
       "    }\n",
       "\n",
       "    .dataframe tbody tr th {\n",
       "        vertical-align: top;\n",
       "    }\n",
       "\n",
       "    .dataframe thead th {\n",
       "        text-align: right;\n",
       "    }\n",
       "</style>\n",
       "<table border=\"1\" class=\"dataframe\">\n",
       "  <thead>\n",
       "    <tr style=\"text-align: right;\">\n",
       "      <th></th>\n",
       "      <th>Drug_ID</th>\n",
       "      <th>Drug</th>\n",
       "      <th>Y</th>\n",
       "      <th>embedding</th>\n",
       "    </tr>\n",
       "  </thead>\n",
       "  <tbody>\n",
       "    <tr>\n",
       "      <th>0</th>\n",
       "      <td>TOX3021</td>\n",
       "      <td>CCOc1ccc2nc(S(N)(=O)=O)sc2c1</td>\n",
       "      <td>0.0</td>\n",
       "      <td>[0.05185101, 0.19479074, 0.052489955, -0.09554...</td>\n",
       "    </tr>\n",
       "    <tr>\n",
       "      <th>1</th>\n",
       "      <td>TOX3020</td>\n",
       "      <td>CCN1C(=O)NC(c2ccccc2)C1=O</td>\n",
       "      <td>0.0</td>\n",
       "      <td>[0.12783396, -0.0024298094, -0.071678214, -0.0...</td>\n",
       "    </tr>\n",
       "    <tr>\n",
       "      <th>2</th>\n",
       "      <td>TOX3027</td>\n",
       "      <td>CCCN(CC)C(CC)C(=O)Nc1c(C)cccc1C</td>\n",
       "      <td>0.0</td>\n",
       "      <td>[0.14798662, -0.098763496, -0.14953455, -0.125...</td>\n",
       "    </tr>\n",
       "    <tr>\n",
       "      <th>3</th>\n",
       "      <td>TOX20800</td>\n",
       "      <td>CC(O)(P(=O)(O)O)P(=O)(O)O</td>\n",
       "      <td>0.0</td>\n",
       "      <td>[-0.0025056677, -0.045134634, -0.031868976, 0....</td>\n",
       "    </tr>\n",
       "    <tr>\n",
       "      <th>4</th>\n",
       "      <td>TOX5110</td>\n",
       "      <td>CC(C)(C)OOC(C)(C)CCC(C)(C)OOC(C)(C)C</td>\n",
       "      <td>0.0</td>\n",
       "      <td>[-0.031643886, -0.07929968, 0.00910799, -0.133...</td>\n",
       "    </tr>\n",
       "  </tbody>\n",
       "</table>\n",
       "</div>"
      ],
      "text/plain": [
       "    Drug_ID                                  Drug    Y  \\\n",
       "0   TOX3021          CCOc1ccc2nc(S(N)(=O)=O)sc2c1  0.0   \n",
       "1   TOX3020             CCN1C(=O)NC(c2ccccc2)C1=O  0.0   \n",
       "2   TOX3027       CCCN(CC)C(CC)C(=O)Nc1c(C)cccc1C  0.0   \n",
       "3  TOX20800             CC(O)(P(=O)(O)O)P(=O)(O)O  0.0   \n",
       "4   TOX5110  CC(C)(C)OOC(C)(C)CCC(C)(C)OOC(C)(C)C  0.0   \n",
       "\n",
       "                                           embedding  \n",
       "0  [0.05185101, 0.19479074, 0.052489955, -0.09554...  \n",
       "1  [0.12783396, -0.0024298094, -0.071678214, -0.0...  \n",
       "2  [0.14798662, -0.098763496, -0.14953455, -0.125...  \n",
       "3  [-0.0025056677, -0.045134634, -0.031868976, 0....  \n",
       "4  [-0.031643886, -0.07929968, 0.00910799, -0.133...  "
      ]
     },
     "execution_count": 16,
     "metadata": {},
     "output_type": "execute_result"
    }
   ],
   "source": [
    "pd.read_parquet(\"../output/Single/tox21_NR-AR_featurized.parquet\").head()"
   ]
  },
  {
   "cell_type": "code",
   "execution_count": null,
   "metadata": {},
   "outputs": [
    {
     "name": "stdout",
     "output_type": "stream",
     "text": [
      "✅ All checks passed!\n"
     ]
    }
   ],
   "source": [
    "assert len(featurized_df) == len(embeddings), \"Row count mismatch!\"\n",
    "assert all(len(emb) == 1024 for emb in featurized_df[\"embedding\"]), \"Incorrect embedding dimensions!\"\n",
    "assert featurized_df[\"Drug_ID\"].nunique() == len(featurized_df), \"Duplicate Drug_IDs!\"\n",
    "print(\"✅ All checks passed!\")"
   ]
  }
 ],
 "metadata": {
  "kernelspec": {
   "display_name": "ersilia",
   "language": "python",
   "name": "python3"
  },
  "language_info": {
   "codemirror_mode": {
    "name": "ipython",
    "version": 3
   },
   "file_extension": ".py",
   "mimetype": "text/x-python",
   "name": "python",
   "nbconvert_exporter": "python",
   "pygments_lexer": "ipython3",
   "version": "3.12.9"
  }
 },
 "nbformat": 4,
 "nbformat_minor": 2
}
