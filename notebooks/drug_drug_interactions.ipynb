{
 "cells": [
  {
   "cell_type": "code",
   "execution_count": null,
   "id": "53d32830-3d2e-411e-a414-697b44f32cde",
   "metadata": {},
   "outputs": [],
   "source": [
    "# uncomment the line below and run this code cell once\n",
    "#%run '../scripts/data_loader.py'"
   ]
  },
  {
   "cell_type": "code",
   "execution_count": null,
   "id": "296b1af5-7a7c-4aa6-8da1-fedda230bf6f",
   "metadata": {},
   "outputs": [],
   "source": [
    "import pandas as pd \n",
    "import numpy as np \n",
    "import matplotlib as np \n",
    "from sklearn.preprocessing import OneHotEncoder\n",
    "\n"
   ]
  },
  {
   "cell_type": "code",
   "execution_count": null,
   "id": "fdb91c6d-3631-4569-a79b-6f028965b911",
   "metadata": {},
   "outputs": [],
   "source": [
    "train = pd.read_csv('../data/train.csv')\n",
    "valid = pd.read_csv('../data/valid.csv')\n",
    "test = pd.read_csv('../data/test.csv')"
   ]
  },
  {
   "cell_type": "code",
   "execution_count": null,
   "id": "6b5db03e-8992-45ba-a8f5-a31fb5f93ab1",
   "metadata": {},
   "outputs": [],
   "source": [
    "print(f'The shape of the training set is:{train.shape}')\n",
    "print(f'The shape of the cross-validation set is:{valid.shape}')\n",
    "print(f'The shape of the test set is:{test.shape}')"
   ]
  },
  {
   "cell_type": "code",
   "execution_count": null,
   "id": "dd64af0b-b5b0-4a5a-b328-5b3d6b6cbec7",
   "metadata": {},
   "outputs": [],
   "source": [
    "train.info()"
   ]
  },
  {
   "cell_type": "markdown",
   "id": "536f87d5-c24a-4000-bd59-9d5048d6628b",
   "metadata": {},
   "source": [
    "### train.info() returns information about the train dataset, namely the column names, and their data types\n",
    "From the result above, the first column is the serial number. The dataset will be cleaned and the first column removed"
   ]
  },
  {
   "cell_type": "code",
   "execution_count": null,
   "id": "ed61eeb4-6e02-460b-be62-850a1825ec91",
   "metadata": {},
   "outputs": [],
   "source": [
    "train = train.drop(train.columns[0], axis=1)"
   ]
  },
  {
   "cell_type": "code",
   "execution_count": null,
   "id": "0e26cf6c-eb6a-441c-bc4b-b452e50be6f5",
   "metadata": {},
   "outputs": [],
   "source": [
    "train.info()"
   ]
  },
  {
   "cell_type": "code",
   "execution_count": null,
   "id": "69f495c5-2e32-4688-a945-8de8ef52d3fc",
   "metadata": {},
   "outputs": [],
   "source": [
    "test.info()"
   ]
  },
  {
   "cell_type": "markdown",
   "id": "cbbf1ec8-f160-4384-abc0-d9a6b2ae7827",
   "metadata": {},
   "source": [
    "### test.info() returns information about the train dataset, namely the column names, and their data types\n",
    "From the result above, the first column is the serial number. The dataset will be cleaned and the first column removed"
   ]
  },
  {
   "cell_type": "code",
   "execution_count": null,
   "id": "ce80a3ff-e076-4407-bd00-ff3823891e05",
   "metadata": {},
   "outputs": [],
   "source": [
    "test = test.drop(test.columns[0], axis=1)"
   ]
  },
  {
   "cell_type": "code",
   "execution_count": null,
   "id": "62c6663f-1386-40f2-80fe-e71d5b46ccac",
   "metadata": {},
   "outputs": [],
   "source": [
    "test.info()"
   ]
  },
  {
   "cell_type": "code",
   "execution_count": null,
   "id": "142240b7-2fe7-4ebe-bb75-9c0d8e5a4bf1",
   "metadata": {},
   "outputs": [],
   "source": [
    "valid.info()"
   ]
  },
  {
   "cell_type": "markdown",
   "id": "1b784161-869f-4b15-886d-59f7cfd4912b",
   "metadata": {},
   "source": [
    "### valid.info() returns information about the train dataset, namely the column names, and their data types\n",
    "From the result above, the first column is the serial number. The dataset will be cleaned and the first column removed"
   ]
  },
  {
   "cell_type": "code",
   "execution_count": null,
   "id": "ed63ffce-cc0c-484d-ac1d-837c13e7a471",
   "metadata": {},
   "outputs": [],
   "source": [
    "valid = valid.drop(valid.columns[0], axis=1)"
   ]
  },
  {
   "cell_type": "markdown",
   "id": "e24ae9f6-a7cb-4ed7-bd79-d54e0ea44e7c",
   "metadata": {},
   "source": [
    "## Exploratory Data Analysis "
   ]
  },
  {
   "cell_type": "code",
   "execution_count": null,
   "id": "6f2dfc7b-4708-4b43-9578-043d1a7d05cd",
   "metadata": {},
   "outputs": [],
   "source": [
    "train_X = train.iloc[:, :-1]\n",
    "train_y = train.iloc[:, -1]"
   ]
  },
  {
   "cell_type": "code",
   "execution_count": null,
   "id": "2d29f258-bacb-42ab-a464-0ed7c4a36f3e",
   "metadata": {},
   "outputs": [],
   "source": [
    "train_X.head()\n"
   ]
  },
  {
   "cell_type": "code",
   "execution_count": null,
   "id": "6924245f-ac3b-4597-a52c-10f900b0c942",
   "metadata": {},
   "outputs": [],
   "source": [
    "train_y.head()"
   ]
  },
  {
   "cell_type": "code",
   "execution_count": null,
   "id": "1099dec9-f464-4234-bc28-9c9eabe1d6a3",
   "metadata": {},
   "outputs": [],
   "source": [
    "train_y.value_counts()"
   ]
  },
  {
   "cell_type": "code",
   "execution_count": null,
   "id": "368fc7ef-73c4-4a59-ae7d-02ae362907ee",
   "metadata": {},
   "outputs": [],
   "source": [
    "train_y.unique()"
   ]
  },
  {
   "cell_type": "markdown",
   "id": "b005b39c-4535-426f-8f62-2e643cd93c26",
   "metadata": {},
   "source": [
    "### To know what type of relation the label index corresponds to,run the cell below"
   ]
  },
  {
   "cell_type": "code",
   "execution_count": null,
   "id": "9cbaef01-a228-4ef4-aecf-9efbd1c93ef5",
   "metadata": {},
   "outputs": [],
   "source": [
    "from tdc.utils import get_label_map\n",
    "get_label_map(name = 'DrugBank', task = 'DDI')"
   ]
  },
  {
   "cell_type": "code",
   "execution_count": null,
   "id": "3d5b84af-04d7-4538-a372-4953deba4599",
   "metadata": {},
   "outputs": [],
   "source": [
    "%run '../scripts/featuriser.py'"
   ]
  },
  {
   "cell_type": "code",
   "execution_count": null,
   "id": "81d51670-0c0f-489b-984c-4c5408117ba6",
   "metadata": {},
   "outputs": [],
   "source": [
    "train_feat = pd.read_csv('../data/featurised_train.csv')\n",
    "valid_feat = pd.read_csv('../data/featurised_valid.csv')\n",
    "test_feat = pd.read_csv('../data/featurised_test.csv')"
   ]
  },
  {
   "cell_type": "code",
   "execution_count": null,
   "id": "0f2d6ff4-1384-4eac-8ef5-3ea8fbcfc20a",
   "metadata": {},
   "outputs": [],
   "source": [
    "print(train_feat.info())\n",
    "print(valid_feat.info())\n",
    "print(train.info())"
   ]
  },
  {
   "cell_type": "code",
   "execution_count": null,
   "id": "e709efcd-f7e4-4138-9476-d5a18014a3a2",
   "metadata": {},
   "outputs": [],
   "source": [
    "train_feat.Y"
   ]
  },
  {
   "cell_type": "code",
   "execution_count": null,
   "id": "d4d84cc5-82b6-464f-a6bb-dbc22deee354",
   "metadata": {},
   "outputs": [],
   "source": []
  }
 ],
 "metadata": {
  "kernelspec": {
   "display_name": "Python 3 (ipykernel)",
   "language": "python",
   "name": "python3"
  },
  "language_info": {
   "codemirror_mode": {
    "name": "ipython",
    "version": 3
   },
   "file_extension": ".py",
   "mimetype": "text/x-python",
   "name": "python",
   "nbconvert_exporter": "python",
   "pygments_lexer": "ipython3",
   "version": "3.12.2"
  }
 },
 "nbformat": 4,
 "nbformat_minor": 5
}
