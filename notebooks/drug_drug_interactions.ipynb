{
 "cells": [
  {
   "cell_type": "code",
   "execution_count": 25,
   "id": "53d32830-3d2e-411e-a414-697b44f32cde",
   "metadata": {},
   "outputs": [],
   "source": [
    "# uncomment the line below and run this code cell once\n",
    "#%run '../scripts/data_loader.py'"
   ]
  },
  {
   "cell_type": "code",
   "execution_count": 56,
   "id": "296b1af5-7a7c-4aa6-8da1-fedda230bf6f",
   "metadata": {},
   "outputs": [],
   "source": [
    "import pandas as pd \n",
    "import numpy as np \n",
    "import matplotlib as np \n",
    "from sklearn.preprocessing import OneHotEncoder\n",
    "\n"
   ]
  },
  {
   "cell_type": "code",
   "execution_count": 39,
   "id": "fdb91c6d-3631-4569-a79b-6f028965b911",
   "metadata": {},
   "outputs": [],
   "source": [
    "train = pd.read_csv('../data/train.csv')\n",
    "valid = pd.read_csv('../data/valid.csv')\n",
    "test = pd.read_csv('../data/test.csv')"
   ]
  },
  {
   "cell_type": "code",
   "execution_count": 40,
   "id": "6b5db03e-8992-45ba-a8f5-a31fb5f93ab1",
   "metadata": {},
   "outputs": [
    {
     "name": "stdout",
     "output_type": "stream",
     "text": [
      "The shape of the training set is:(134265, 6)\n",
      "The shape of the cross-validation set is:(19181, 6)\n",
      "The shape of the test set is:(38362, 6)\n"
     ]
    }
   ],
   "source": [
    "print(f'The shape of the training set is:{train.shape}')\n",
    "print(f'The shape of the cross-validation set is:{valid.shape}')\n",
    "print(f'The shape of the test set is:{test.shape}')"
   ]
  },
  {
   "cell_type": "code",
   "execution_count": 41,
   "id": "dd64af0b-b5b0-4a5a-b328-5b3d6b6cbec7",
   "metadata": {},
   "outputs": [
    {
     "name": "stdout",
     "output_type": "stream",
     "text": [
      "<class 'pandas.core.frame.DataFrame'>\n",
      "RangeIndex: 134265 entries, 0 to 134264\n",
      "Data columns (total 6 columns):\n",
      " #   Column      Non-Null Count   Dtype \n",
      "---  ------      --------------   ----- \n",
      " 0   Unnamed: 0  134265 non-null  int64 \n",
      " 1   Drug1_ID    134265 non-null  object\n",
      " 2   Drug1       134265 non-null  object\n",
      " 3   Drug2_ID    134265 non-null  object\n",
      " 4   Drug2       134265 non-null  object\n",
      " 5   Y           134265 non-null  int64 \n",
      "dtypes: int64(2), object(4)\n",
      "memory usage: 6.1+ MB\n"
     ]
    }
   ],
   "source": [
    "train.info()"
   ]
  },
  {
   "cell_type": "markdown",
   "id": "536f87d5-c24a-4000-bd59-9d5048d6628b",
   "metadata": {},
   "source": [
    "### train.info() returns information about the train dataset, namely the column names, and their data types\n",
    "From the result above, the first column is the serial number. The dataset will be cleaned and the first column removed"
   ]
  },
  {
   "cell_type": "code",
   "execution_count": 42,
   "id": "ed61eeb4-6e02-460b-be62-850a1825ec91",
   "metadata": {},
   "outputs": [],
   "source": [
    "train = train.drop(train.columns[0], axis=1)"
   ]
  },
  {
   "cell_type": "code",
   "execution_count": 43,
   "id": "0e26cf6c-eb6a-441c-bc4b-b452e50be6f5",
   "metadata": {},
   "outputs": [
    {
     "name": "stdout",
     "output_type": "stream",
     "text": [
      "<class 'pandas.core.frame.DataFrame'>\n",
      "RangeIndex: 134265 entries, 0 to 134264\n",
      "Data columns (total 5 columns):\n",
      " #   Column    Non-Null Count   Dtype \n",
      "---  ------    --------------   ----- \n",
      " 0   Drug1_ID  134265 non-null  object\n",
      " 1   Drug1     134265 non-null  object\n",
      " 2   Drug2_ID  134265 non-null  object\n",
      " 3   Drug2     134265 non-null  object\n",
      " 4   Y         134265 non-null  int64 \n",
      "dtypes: int64(1), object(4)\n",
      "memory usage: 5.1+ MB\n"
     ]
    }
   ],
   "source": [
    "train.info()"
   ]
  },
  {
   "cell_type": "code",
   "execution_count": 44,
   "id": "69f495c5-2e32-4688-a945-8de8ef52d3fc",
   "metadata": {},
   "outputs": [
    {
     "name": "stdout",
     "output_type": "stream",
     "text": [
      "<class 'pandas.core.frame.DataFrame'>\n",
      "RangeIndex: 38362 entries, 0 to 38361\n",
      "Data columns (total 6 columns):\n",
      " #   Column      Non-Null Count  Dtype \n",
      "---  ------      --------------  ----- \n",
      " 0   Unnamed: 0  38362 non-null  int64 \n",
      " 1   Drug1_ID    38362 non-null  object\n",
      " 2   Drug1       38362 non-null  object\n",
      " 3   Drug2_ID    38362 non-null  object\n",
      " 4   Drug2       38362 non-null  object\n",
      " 5   Y           38362 non-null  int64 \n",
      "dtypes: int64(2), object(4)\n",
      "memory usage: 1.8+ MB\n"
     ]
    }
   ],
   "source": [
    "test.info()"
   ]
  },
  {
   "cell_type": "markdown",
   "id": "cbbf1ec8-f160-4384-abc0-d9a6b2ae7827",
   "metadata": {},
   "source": [
    "### test.info() returns information about the train dataset, namely the column names, and their data types\n",
    "From the result above, the first column is the serial number. The dataset will be cleaned and the first column removed"
   ]
  },
  {
   "cell_type": "code",
   "execution_count": 45,
   "id": "ce80a3ff-e076-4407-bd00-ff3823891e05",
   "metadata": {},
   "outputs": [],
   "source": [
    "test = test.drop(test.columns[0], axis=1)"
   ]
  },
  {
   "cell_type": "code",
   "execution_count": 46,
   "id": "62c6663f-1386-40f2-80fe-e71d5b46ccac",
   "metadata": {},
   "outputs": [
    {
     "name": "stdout",
     "output_type": "stream",
     "text": [
      "<class 'pandas.core.frame.DataFrame'>\n",
      "RangeIndex: 38362 entries, 0 to 38361\n",
      "Data columns (total 5 columns):\n",
      " #   Column    Non-Null Count  Dtype \n",
      "---  ------    --------------  ----- \n",
      " 0   Drug1_ID  38362 non-null  object\n",
      " 1   Drug1     38362 non-null  object\n",
      " 2   Drug2_ID  38362 non-null  object\n",
      " 3   Drug2     38362 non-null  object\n",
      " 4   Y         38362 non-null  int64 \n",
      "dtypes: int64(1), object(4)\n",
      "memory usage: 1.5+ MB\n"
     ]
    }
   ],
   "source": [
    "test.info()"
   ]
  },
  {
   "cell_type": "code",
   "execution_count": 47,
   "id": "142240b7-2fe7-4ebe-bb75-9c0d8e5a4bf1",
   "metadata": {},
   "outputs": [
    {
     "name": "stdout",
     "output_type": "stream",
     "text": [
      "<class 'pandas.core.frame.DataFrame'>\n",
      "RangeIndex: 19181 entries, 0 to 19180\n",
      "Data columns (total 6 columns):\n",
      " #   Column      Non-Null Count  Dtype \n",
      "---  ------      --------------  ----- \n",
      " 0   Unnamed: 0  19181 non-null  int64 \n",
      " 1   Drug1_ID    19181 non-null  object\n",
      " 2   Drug1       19181 non-null  object\n",
      " 3   Drug2_ID    19181 non-null  object\n",
      " 4   Drug2       19181 non-null  object\n",
      " 5   Y           19181 non-null  int64 \n",
      "dtypes: int64(2), object(4)\n",
      "memory usage: 899.2+ KB\n"
     ]
    }
   ],
   "source": [
    "valid.info()"
   ]
  },
  {
   "cell_type": "markdown",
   "id": "1b784161-869f-4b15-886d-59f7cfd4912b",
   "metadata": {},
   "source": [
    "### valid.info() returns information about the train dataset, namely the column names, and their data types\n",
    "From the result above, the first column is the serial number. The dataset will be cleaned and the first column removed"
   ]
  },
  {
   "cell_type": "code",
   "execution_count": 48,
   "id": "ed63ffce-cc0c-484d-ac1d-837c13e7a471",
   "metadata": {},
   "outputs": [],
   "source": [
    "valid = valid.drop(valid.columns[0], axis=1)"
   ]
  },
  {
   "cell_type": "code",
   "execution_count": 49,
   "id": "fa6661fc-9701-4f21-84f0-2e31148cd77f",
   "metadata": {},
   "outputs": [],
   "source": [
    "## Exploratory Data Analysis "
   ]
  },
  {
   "cell_type": "code",
   "execution_count": 50,
   "id": "6f2dfc7b-4708-4b43-9578-043d1a7d05cd",
   "metadata": {},
   "outputs": [],
   "source": [
    "train_X = train.iloc[:, :-1]\n",
    "train_y = train.iloc[:, -1]"
   ]
  },
  {
   "cell_type": "code",
   "execution_count": 51,
   "id": "2d29f258-bacb-42ab-a464-0ed7c4a36f3e",
   "metadata": {},
   "outputs": [
    {
     "data": {
      "text/html": [
       "<div>\n",
       "<style scoped>\n",
       "    .dataframe tbody tr th:only-of-type {\n",
       "        vertical-align: middle;\n",
       "    }\n",
       "\n",
       "    .dataframe tbody tr th {\n",
       "        vertical-align: top;\n",
       "    }\n",
       "\n",
       "    .dataframe thead th {\n",
       "        text-align: right;\n",
       "    }\n",
       "</style>\n",
       "<table border=\"1\" class=\"dataframe\">\n",
       "  <thead>\n",
       "    <tr style=\"text-align: right;\">\n",
       "      <th></th>\n",
       "      <th>Drug1_ID</th>\n",
       "      <th>Drug1</th>\n",
       "      <th>Drug2_ID</th>\n",
       "      <th>Drug2</th>\n",
       "    </tr>\n",
       "  </thead>\n",
       "  <tbody>\n",
       "    <tr>\n",
       "      <th>0</th>\n",
       "      <td>DB04571</td>\n",
       "      <td>CC1=CC2=CC3=C(OC(=O)C=C3C)C(C)=C2O1</td>\n",
       "      <td>DB00460</td>\n",
       "      <td>COC(=O)CCC1=C2NC(\\C=C3/N=C(/C=C4\\N\\C(=C/C5=N/C...</td>\n",
       "    </tr>\n",
       "    <tr>\n",
       "      <th>1</th>\n",
       "      <td>DB09536</td>\n",
       "      <td>O=[Ti]=O</td>\n",
       "      <td>DB00460</td>\n",
       "      <td>COC(=O)CCC1=C2NC(\\C=C3/N=C(/C=C4\\N\\C(=C/C5=N/C...</td>\n",
       "    </tr>\n",
       "    <tr>\n",
       "      <th>2</th>\n",
       "      <td>DB01600</td>\n",
       "      <td>CC(C(O)=O)C1=CC=C(S1)C(=O)C1=CC=CC=C1</td>\n",
       "      <td>DB00460</td>\n",
       "      <td>COC(=O)CCC1=C2NC(\\C=C3/N=C(/C=C4\\N\\C(=C/C5=N/C...</td>\n",
       "    </tr>\n",
       "    <tr>\n",
       "      <th>3</th>\n",
       "      <td>DB09000</td>\n",
       "      <td>CC(CN(C)C)CN1C2=CC=CC=C2SC2=C1C=C(C=C2)C#N</td>\n",
       "      <td>DB00460</td>\n",
       "      <td>COC(=O)CCC1=C2NC(\\C=C3/N=C(/C=C4\\N\\C(=C/C5=N/C...</td>\n",
       "    </tr>\n",
       "    <tr>\n",
       "      <th>4</th>\n",
       "      <td>DB11630</td>\n",
       "      <td>OC1=CC=CC(=C1)C-1=C2\\CCC(=N2)\\C(=C2/N\\C(\\C=C2)...</td>\n",
       "      <td>DB00460</td>\n",
       "      <td>COC(=O)CCC1=C2NC(\\C=C3/N=C(/C=C4\\N\\C(=C/C5=N/C...</td>\n",
       "    </tr>\n",
       "  </tbody>\n",
       "</table>\n",
       "</div>"
      ],
      "text/plain": [
       "  Drug1_ID                                              Drug1 Drug2_ID  \\\n",
       "0  DB04571                CC1=CC2=CC3=C(OC(=O)C=C3C)C(C)=C2O1  DB00460   \n",
       "1  DB09536                                           O=[Ti]=O  DB00460   \n",
       "2  DB01600              CC(C(O)=O)C1=CC=C(S1)C(=O)C1=CC=CC=C1  DB00460   \n",
       "3  DB09000         CC(CN(C)C)CN1C2=CC=CC=C2SC2=C1C=C(C=C2)C#N  DB00460   \n",
       "4  DB11630  OC1=CC=CC(=C1)C-1=C2\\CCC(=N2)\\C(=C2/N\\C(\\C=C2)...  DB00460   \n",
       "\n",
       "                                               Drug2  \n",
       "0  COC(=O)CCC1=C2NC(\\C=C3/N=C(/C=C4\\N\\C(=C/C5=N/C...  \n",
       "1  COC(=O)CCC1=C2NC(\\C=C3/N=C(/C=C4\\N\\C(=C/C5=N/C...  \n",
       "2  COC(=O)CCC1=C2NC(\\C=C3/N=C(/C=C4\\N\\C(=C/C5=N/C...  \n",
       "3  COC(=O)CCC1=C2NC(\\C=C3/N=C(/C=C4\\N\\C(=C/C5=N/C...  \n",
       "4  COC(=O)CCC1=C2NC(\\C=C3/N=C(/C=C4\\N\\C(=C/C5=N/C...  "
      ]
     },
     "execution_count": 51,
     "metadata": {},
     "output_type": "execute_result"
    }
   ],
   "source": [
    "train_X.head()\n"
   ]
  },
  {
   "cell_type": "code",
   "execution_count": 52,
   "id": "6924245f-ac3b-4597-a52c-10f900b0c942",
   "metadata": {},
   "outputs": [
    {
     "data": {
      "text/plain": [
       "0    1\n",
       "1    1\n",
       "2    1\n",
       "3    1\n",
       "4    1\n",
       "Name: Y, dtype: int64"
      ]
     },
     "execution_count": 52,
     "metadata": {},
     "output_type": "execute_result"
    }
   ],
   "source": [
    "train_y.head()"
   ]
  },
  {
   "cell_type": "code",
   "execution_count": 53,
   "id": "1099dec9-f464-4234-bc28-9c9eabe1d6a3",
   "metadata": {},
   "outputs": [
    {
     "data": {
      "text/plain": [
       "Y\n",
       "49    42592\n",
       "47    24102\n",
       "73    16509\n",
       "75     6539\n",
       "60     5945\n",
       "      ...  \n",
       "43        7\n",
       "41        7\n",
       "26        6\n",
       "62        4\n",
       "42        3\n",
       "Name: count, Length: 86, dtype: int64"
      ]
     },
     "execution_count": 53,
     "metadata": {},
     "output_type": "execute_result"
    }
   ],
   "source": [
    "train_y.value_counts()"
   ]
  },
  {
   "cell_type": "code",
   "execution_count": 54,
   "id": "368fc7ef-73c4-4a59-ae7d-02ae362907ee",
   "metadata": {},
   "outputs": [
    {
     "data": {
      "text/plain": [
       "array([ 1,  2,  3,  4,  5,  6,  7,  8,  9, 10, 11, 12, 13, 14, 15, 16, 17,\n",
       "       18, 19, 20, 21, 22, 23, 24, 25, 26, 27, 28, 29, 30, 31, 32, 33, 34,\n",
       "       35, 36, 37, 38, 39, 40, 41, 42, 43, 44, 45, 46, 47, 48, 49, 50, 51,\n",
       "       52, 53, 54, 55, 56, 57, 58, 59, 60, 61, 62, 63, 64, 65, 66, 67, 68,\n",
       "       69, 70, 71, 72, 73, 74, 75, 76, 77, 78, 79, 80, 81, 82, 83, 84, 85,\n",
       "       86])"
      ]
     },
     "execution_count": 54,
     "metadata": {},
     "output_type": "execute_result"
    }
   ],
   "source": [
    "train_y.unique()"
   ]
  },
  {
   "cell_type": "markdown",
   "id": "b005b39c-4535-426f-8f62-2e643cd93c26",
   "metadata": {},
   "source": [
    "### To know what type of relation the label index corresponds to,run the cell below"
   ]
  },
  {
   "cell_type": "code",
   "execution_count": 55,
   "id": "9cbaef01-a228-4ef4-aecf-9efbd1c93ef5",
   "metadata": {},
   "outputs": [
    {
     "data": {
      "text/plain": [
       "{1: '#Drug1 may increase the photosensitizing activities of #Drug2.',\n",
       " 2: '#Drug1 may increase the anticholinergic activities of #Drug2.',\n",
       " 3: 'The bioavailability of #Drug2 can be decreased when combined with #Drug1.',\n",
       " 4: 'The metabolism of #Drug2 can be increased when combined with #Drug1.',\n",
       " 5: '#Drug1 may decrease the vasoconstricting activities of #Drug2.',\n",
       " 6: '#Drug1 may increase the anticoagulant activities of #Drug2.',\n",
       " 7: '#Drug1 may increase the ototoxic activities of #Drug2.',\n",
       " 8: 'The therapeutic efficacy of #Drug2 can be increased when used in combination with #Drug1.',\n",
       " 9: '#Drug1 may increase the hypoglycemic activities of #Drug2.',\n",
       " 10: '#Drug1 may increase the antihypertensive activities of #Drug2.',\n",
       " 11: 'The serum concentration of the active metabolites of #Drug2 can be reduced when #Drug2 is used in combination with #Drug1 resulting in a loss in efficacy.',\n",
       " 12: '#Drug1 may decrease the anticoagulant activities of #Drug2.',\n",
       " 13: 'The absorption of #Drug2 can be decreased when combined with #Drug1.',\n",
       " 14: '#Drug1 may decrease the bronchodilatory activities of #Drug2.',\n",
       " 15: '#Drug1 may increase the cardiotoxic activities of #Drug2.',\n",
       " 16: '#Drug1 may increase the central nervous system depressant (CNS depressant) activities of #Drug2.',\n",
       " 17: '#Drug1 may decrease the neuromuscular blocking activities of #Drug2.',\n",
       " 18: '#Drug1 can cause an increase in the absorption of #Drug2 resulting in an increased serum concentration and potentially a worsening of adverse effects.',\n",
       " 19: '#Drug1 may increase the vasoconstricting activities of #Drug2.',\n",
       " 20: '#Drug1 may increase the QTc-prolonging activities of #Drug2.',\n",
       " 21: '#Drug1 may increase the neuromuscular blocking activities of #Drug2.',\n",
       " 22: '#Drug1 may increase the adverse neuromuscular activities of #Drug2.',\n",
       " 23: '#Drug1 may increase the stimulatory activities of #Drug2.',\n",
       " 24: '#Drug1 may increase the hypocalcemic activities of #Drug2.',\n",
       " 25: '#Drug1 may increase the atrioventricular blocking (AV block) activities of #Drug2.',\n",
       " 26: '#Drug1 may decrease the antiplatelet activities of #Drug2.',\n",
       " 27: '#Drug1 may increase the neuroexcitatory activities of #Drug2.',\n",
       " 28: '#Drug1 may increase the dermatologic adverse activities of #Drug2.',\n",
       " 29: '#Drug1 may decrease the diuretic activities of #Drug2.',\n",
       " 30: '#Drug1 may increase the orthostatic hypotensive activities of #Drug2.',\n",
       " 31: 'The risk or severity of hypertension can be increased when #Drug2 is combined with #Drug1.',\n",
       " 32: '#Drug1 may increase the sedative activities of #Drug2.',\n",
       " 33: 'The risk or severity of QTc prolongation can be increased when #Drug1 is combined with #Drug2.',\n",
       " 34: '#Drug1 may increase the immunosuppressive activities of #Drug2.',\n",
       " 35: '#Drug1 may increase the neurotoxic activities of #Drug2.',\n",
       " 36: '#Drug1 may increase the antipsychotic activities of #Drug2.',\n",
       " 37: '#Drug1 may decrease the antihypertensive activities of #Drug2.',\n",
       " 38: '#Drug1 may increase the vasodilatory activities of #Drug2.',\n",
       " 39: '#Drug1 may increase the constipating activities of #Drug2.',\n",
       " 40: '#Drug1 may increase the respiratory depressant activities of #Drug2.',\n",
       " 41: '#Drug1 may increase the hypotensive and central nervous system depressant (CNS depressant) activities of #Drug2.',\n",
       " 42: 'The risk or severity of hyperkalemia can be increased when #Drug1 is combined with #Drug2.',\n",
       " 43: 'The protein binding of #Drug2 can be decreased when combined with #Drug1.',\n",
       " 44: '#Drug1 may increase the central neurotoxic activities of #Drug2.',\n",
       " 45: '#Drug1 may decrease effectiveness of #Drug2 as a diagnostic agent.',\n",
       " 46: '#Drug1 may increase the bronchoconstrictory activities of #Drug2.',\n",
       " 47: 'The metabolism of #Drug2 can be decreased when combined with #Drug1.',\n",
       " 48: '#Drug1 may increase the myopathic rhabdomyolysis activities of #Drug2.',\n",
       " 49: 'The risk or severity of adverse effects can be increased when #Drug1 is combined with #Drug2.',\n",
       " 50: 'The risk or severity of heart failure can be increased when #Drug2 is combined with #Drug1.',\n",
       " 51: '#Drug1 may increase the hypercalcemic activities of #Drug2.',\n",
       " 52: '#Drug1 may decrease the analgesic activities of #Drug2.',\n",
       " 53: '#Drug1 may increase the antiplatelet activities of #Drug2.',\n",
       " 54: '#Drug1 may increase the bradycardic activities of #Drug2.',\n",
       " 55: '#Drug1 may increase the hyponatremic activities of #Drug2.',\n",
       " 56: 'The risk or severity of hypotension can be increased when #Drug1 is combined with #Drug2.',\n",
       " 57: '#Drug1 may increase the nephrotoxic activities of #Drug2.',\n",
       " 58: '#Drug1 may decrease the cardiotoxic activities of #Drug2.',\n",
       " 59: '#Drug1 may increase the ulcerogenic activities of #Drug2.',\n",
       " 60: '#Drug1 may increase the hypotensive activities of #Drug2.',\n",
       " 61: '#Drug1 may decrease the stimulatory activities of #Drug2.',\n",
       " 62: 'The bioavailability of #Drug2 can be increased when combined with #Drug1.',\n",
       " 63: '#Drug1 may increase the myelosuppressive activities of #Drug2.',\n",
       " 64: '#Drug1 may increase the serotonergic activities of #Drug2.',\n",
       " 65: '#Drug1 may increase the excretion rate of #Drug2 which could result in a lower serum level and potentially a reduction in efficacy.',\n",
       " 66: 'The risk or severity of bleeding can be increased when #Drug1 is combined with #Drug2.',\n",
       " 67: '#Drug1 can cause a decrease in the absorption of #Drug2 resulting in a reduced serum concentration and potentially a decrease in efficacy.',\n",
       " 68: '#Drug1 may increase the hyperkalemic activities of #Drug2.',\n",
       " 69: '#Drug1 may increase the analgesic activities of #Drug2.',\n",
       " 70: 'The therapeutic efficacy of #Drug2 can be decreased when used in combination with #Drug1.',\n",
       " 71: '#Drug1 may increase the hypertensive activities of #Drug2.',\n",
       " 72: '#Drug1 may decrease the excretion rate of #Drug2 which could result in a higher serum level.',\n",
       " 73: 'The serum concentration of #Drug2 can be increased when it is combined with #Drug1.',\n",
       " 74: '#Drug1 may increase the fluid retaining activities of #Drug2.',\n",
       " 75: 'The serum concentration of #Drug2 can be decreased when it is combined with #Drug1.',\n",
       " 76: '#Drug1 may decrease the sedative activities of #Drug2.',\n",
       " 77: 'The serum concentration of the active metabolites of #Drug2 can be increased when #Drug2 is used in combination with #Drug1.',\n",
       " 78: '#Drug1 may increase the hyperglycemic activities of #Drug2.',\n",
       " 79: '#Drug1 may increase the central nervous system depressant (CNS depressant) and hypertensive activities of #Drug2.',\n",
       " 80: '#Drug1 may increase the hepatotoxic activities of #Drug2.',\n",
       " 81: '#Drug1 may increase the thrombogenic activities of #Drug2.',\n",
       " 82: '#Drug1 may increase the arrhythmogenic activities of #Drug2.',\n",
       " 83: '#Drug1 may increase the hypokalemic activities of #Drug2.',\n",
       " 84: '#Drug1 may increase the vasopressor activities of #Drug2.',\n",
       " 85: '#Drug1 may increase the tachycardic activities of #Drug2.',\n",
       " 86: 'The risk of a hypersensitivity reaction to #Drug2 is increased when it is combined with #Drug1.'}"
      ]
     },
     "execution_count": 55,
     "metadata": {},
     "output_type": "execute_result"
    }
   ],
   "source": [
    "from tdc.utils import get_label_map\n",
    "get_label_map(name = 'DrugBank', task = 'DDI')"
   ]
  },
  {
   "cell_type": "code",
   "execution_count": null,
   "id": "3d5b84af-04d7-4538-a372-4953deba4599",
   "metadata": {},
   "outputs": [],
   "source": []
  }
 ],
 "metadata": {
  "kernelspec": {
   "display_name": "Python 3 (ipykernel)",
   "language": "python",
   "name": "python3"
  },
  "language_info": {
   "codemirror_mode": {
    "name": "ipython",
    "version": 3
   },
   "file_extension": ".py",
   "mimetype": "text/x-python",
   "name": "python",
   "nbconvert_exporter": "python",
   "pygments_lexer": "ipython3",
   "version": "3.12.2"
  }
 },
 "nbformat": 4,
 "nbformat_minor": 5
}
